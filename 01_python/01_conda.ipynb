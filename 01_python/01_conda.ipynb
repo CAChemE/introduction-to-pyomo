{
 "cells": [
  {
   "cell_type": "code",
   "execution_count": null,
   "metadata": {
    "collapsed": true
   },
   "outputs": [],
   "source": [
    "#----------------------------------------------------------------------------------------------------------------------\n",
    "#\n",
    "#                                           INTRODUCTION TO PYTHON\n",
    "# \n",
    "# 01. - PACKAGE AND ENVIRONMENT MANAGMENT WITH CONDA\n",
    "#----------------------------------------------------------------------------------------------------------------------"
   ]
  },
  {
   "cell_type": "markdown",
   "metadata": {},
   "source": [
    "Conda is an open source package management system and environment management system that runs on Windows, macOS and Linux. Conda quickly installs, runs and updates packages and their dependencies. Conda easily creates, saves, loads and switches between environments on your local computer. It was created for Python programs, but it can package and distribute software for any language.\n",
    "https://docs.conda.io/projects/conda/en/latest/"
   ]
  },
  {
   "cell_type": "code",
   "execution_count": null,
   "metadata": {
    "collapsed": true
   },
   "outputs": [],
   "source": []
  },
  {
   "cell_type": "markdown",
   "metadata": {},
   "source": [
    "# Basic Command Lines"
   ]
  },
  {
   "cell_type": "markdown",
   "metadata": {
    "collapsed": true
   },
   "source": [
    "### 01 - Verify that conda is installled and running on your system \n",
    "conda --version\n",
    "\n",
    "### 02 - Update conda to the current version\n",
    "conda update conda\n",
    "\n",
    "### 03 - Verify which version of Python is in your current environment \n",
    "python --version\n",
    "\n",
    "### 04 - Display information about current conda installation\n",
    "conda info \n",
    "\n",
    "### 05 - List of environments\n",
    "conda info --envs (or conda info -e)\n",
    "\n",
    "### 06 - Show list of python packages that are installed in your current environmnet \n",
    "conda list\n",
    "\n",
    "### 07 - Help command\n",
    "conda < packageName > --help\n",
    "\n",
    "### 08 - Install a new package in the active envirionment\n",
    "conda install < packageName >\n"
   ]
  },
  {
   "cell_type": "markdown",
   "metadata": {},
   "source": [
    "NOTE:\n",
    "You can abbreviate many frequently used command options that are preceded by 2 dashes (--) to just 1 dash and the first letter of the option. <br> \n",
    "For instance, --name and -n are the same, and --envs and -e are the same."
   ]
  },
  {
   "cell_type": "code",
   "execution_count": null,
   "metadata": {
    "collapsed": true
   },
   "outputs": [],
   "source": []
  },
  {
   "cell_type": "markdown",
   "metadata": {
    "collapsed": true
   },
   "source": [
    "# Managing Environments\n"
   ]
  },
  {
   "cell_type": "markdown",
   "metadata": {
    "collapsed": true
   },
   "source": [
    "NOTE: \n",
    "Conda allows you to create separate environments containing files, packages and their dependencies that will not interact with other environments."
   ]
  },
  {
   "cell_type": "markdown",
   "metadata": {
    "collapsed": true
   },
   "source": [
    "### 09 - Create a new environment and install Python 3.x\n",
    "conda create -n < envName > python=3.x\n",
    "\n",
    "### 10 - To activate a desired environment\n",
    "conda activate < envName >\n",
    "\n",
    "### 11 - To deactivate an active environmnet\n",
    "conda deactivate\n",
    "(or)\n",
    "conda activate # (change the current envirionment back to the default)\n",
    "\n",
    "### 12 - Install a new package in a desired envirionment\n",
    "conda install  -n < envName > < packageName1 > < packageName2 >....< packageNamen >  <br>\n",
    "(Example: conda install  -n envName matplotlib pandas ipython)\n"
   ]
  },
  {
   "cell_type": "markdown",
   "metadata": {},
   "source": [
    "NOTE: \n",
    "It is best to install all packages at once, so that all of the dependencies are installed at the same time."
   ]
  },
  {
   "cell_type": "markdown",
   "metadata": {},
   "source": [
    "NOTE:\n",
    "    Packages that are not available using conda install can be obtained from Anaconda.org (or other channels)\n",
    "    To install a package from Anaconda.org go to http://anaconda.org."
   ]
  },
  {
   "cell_type": "code",
   "execution_count": null,
   "metadata": {
    "collapsed": true
   },
   "outputs": [],
   "source": []
  },
  {
   "cell_type": "markdown",
   "metadata": {
    "collapsed": true
   },
   "source": [
    "# Installing non-conda packages"
   ]
  },
  {
   "cell_type": "markdown",
   "metadata": {},
   "source": [
    "If a package is not available from conda, you may be able to find and install the package with another package manager like pip.\n",
    "\n",
    "Pip packages do not have all the features of conda packages and we recommend first trying to install any package with conda. If the package is unavailable through conda, try installing it with pip. The differences between pip and conda packages cause certain unavoidable limits in compatibility but conda works hard to be as compatible with pip as possible.\n",
    "https://conda.io/projects/conda/en/latest/user-guide/tasks/manage-pkgs.html"
   ]
  },
  {
   "cell_type": "markdown",
   "metadata": {
    "collapsed": true
   },
   "source": [
    "### 13 - Install a new package directly from PyPi into the current active environment\n",
    "pip install < packageName >\n"
   ]
  },
  {
   "cell_type": "markdown",
   "metadata": {},
   "source": [
    "NOTE:\n",
    "    To find, install and publish Python packages with the Python Package Index (PyPi): https://pypi.org/"
   ]
  },
  {
   "cell_type": "markdown",
   "metadata": {
    "collapsed": true
   },
   "source": [
    "# Saving and Creating Environments to/from txt files"
   ]
  },
  {
   "cell_type": "markdown",
   "metadata": {
    "collapsed": true
   },
   "source": [
    "### 14 - Save current active environment to a text file\n",
    "conda list --explicit > txtFileName.txt # (Example: conda list --explicit > py36.txt)\n",
    "\n",
    "### 15 - Create (recover) environment form a text file\n",
    "conda create --name < envName > --file < txtFileName.txt >"
   ]
  },
  {
   "cell_type": "code",
   "execution_count": null,
   "metadata": {
    "collapsed": true
   },
   "outputs": [],
   "source": []
  },
  {
   "cell_type": "markdown",
   "metadata": {},
   "source": [
    "# Removing Packages and/or Environments"
   ]
  },
  {
   "cell_type": "markdown",
   "metadata": {
    "collapsed": true
   },
   "source": [
    "### 16 - Remove one or more packages form a specific environment\n",
    "conda remove -n < envName > < packageName1 > < packageName2 >\n",
    "\n",
    "### 17 - Remove a package in the current active environment\n",
    "conda remove < packageName1 >\n",
    "\n",
    "### 18 - Remove an environment\n",
    "conda remove -n < envName > --all"
   ]
  },
  {
   "cell_type": "code",
   "execution_count": null,
   "metadata": {
    "collapsed": true
   },
   "outputs": [],
   "source": []
  },
  {
   "cell_type": "markdown",
   "metadata": {
    "collapsed": true
   },
   "source": [
    "# Managing Channels"
   ]
  },
  {
   "cell_type": "markdown",
   "metadata": {
    "collapsed": true
   },
   "source": [
    "Different channels can have the same package, so conda must handle these channel collisions.\n",
    "\n",
    "There will be no channel collisions if you use only the defaults channel. There will also be no channel collisions if all of the channels you use only contain packages that do not exist in any of the other channels in your list. The way conda resolves these collisions matters only when you have multiple channels in your channel list that host the same package."
   ]
  },
  {
   "cell_type": "markdown",
   "metadata": {},
   "source": [
    "By default, conda now prefers packages from a higher priority channel over any version from a lower priority channel. Therefore, you can now safely put channels at the bottom of your channel list to provide additional packages that are not in the default channels, and still be confident that these channels will not override the core package set.\n",
    "\n",
    "Conda collects all of the packages with the same name across all listed channels and processes them as follows:\n",
    "\n",
    "    1. Sorts packages from highest to lowest channel priority.\n",
    "\n",
    "    2. Sorts tied packages---same channel priority---from highest to lowest version number.\n",
    "\n",
    "    3. Sorts still-tied packages---same channel priority and same version---from highest to lowest build number.\n",
    "\n",
    "    4. Installs the first package on the sorted list that satisfies the installation specifications.\n",
    "\n",
    "To make conda use the old method and install the newest version of a package in any listed channel:\n",
    "\n",
    "conda config --set channel_priority false\n",
    "\n",
    "Conda then sorts as follows:\n",
    "\n",
    "   1. Sorts the package list from highest to lowest version number.\n",
    "\n",
    "   2. Sorts tied packages from highest to lowest channel priority.\n",
    "\n",
    "   3. Sorts tied packages from highest to lowest build number.\n",
    "   \n",
    "Because build numbers from different channels are not comparable, build number still comes after channel priority.\n",
    "\n",
    "https://docs.conda.io/projects/conda/en/latest/user-guide/tasks/manage-channels.html"
   ]
  },
  {
   "cell_type": "markdown",
   "metadata": {
    "collapsed": true
   },
   "source": [
    "### 19 - See channels\n",
    "conda info\n",
    "(or)\n",
    "conda config --show channels\n",
    "\n",
    "### 20 - Get value of the key channels\n",
    "conda config --get channels"
   ]
  },
  {
   "cell_type": "markdown",
   "metadata": {
    "collapsed": true
   },
   "source": [
    "### 21 - To add a new channel to the top of the channel list, mainig it the highest priority:\n",
    "conda config --add channels < new_channel > # (Example: conda config --add channels conda-forge)\n",
    "\n",
    "### 22 - To add the new channel to the bottom of the channle list, making it hte lowest priority\n",
    "conda config --append channels < new_channel >\n",
    "\n",
    "### 23 - To install a new package form a desired channel\n",
    "conda install -c < new_channel > < packageName >  # (Example: conda install –c conda-forge ipopt)\n",
    "\n",
    "### 24 - To remove a channel\n",
    "conda config --remove channels < channel_name > # (Example: conda config --remove channels conda-forge)"
   ]
  },
  {
   "cell_type": "code",
   "execution_count": null,
   "metadata": {
    "collapsed": true
   },
   "outputs": [],
   "source": []
  },
  {
   "cell_type": "markdown",
   "metadata": {},
   "source": [
    "vist https://conda.io/projects/conda/en/latest/index.html for more information"
   ]
  }
 ],
 "metadata": {
  "kernelspec": {
   "display_name": "Python 3",
   "language": "python",
   "name": "python3"
  },
  "language_info": {
   "codemirror_mode": {
    "name": "ipython",
    "version": 3
   },
   "file_extension": ".py",
   "mimetype": "text/x-python",
   "name": "python",
   "nbconvert_exporter": "python",
   "pygments_lexer": "ipython3",
   "version": "3.7.3"
  }
 },
 "nbformat": 4,
 "nbformat_minor": 2
}
