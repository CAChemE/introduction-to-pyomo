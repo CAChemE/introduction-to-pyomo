{
 "cells": [
  {
   "cell_type": "markdown",
   "metadata": {},
   "source": [
    "# Basics of Python"
   ]
  },
  {
   "cell_type": "code",
   "execution_count": 1,
   "metadata": {},
   "outputs": [
    {
     "data": {
      "text/html": [
       "/* This template is inspired in the one used by Lorena Barba\n",
       "in the numerical-mooc repository: https://github.com/numerical-mooc/numerical-mooc\n",
       "We thank her work and hope you also enjoy the look of the notobooks with this style */\n",
       "\n",
       "<link href='https://fonts.googleapis.com/css?family=Sofia' rel='stylesheet'>\n",
       "<style>\n",
       "\n",
       "\n",
       "\n",
       "#notebook_panel { /* main background */\n",
       "    background: None;\n",
       "}\n",
       "\n",
       "div #notebook { /* centre the content */\n",
       "    background: #fff; /* white background for content */\n",
       "\tfont-size: 12pt;\n",
       "    width: 100%;\n",
       "    margin: auto;\n",
       "    padding-left: 0pt;\n",
       "\tcolor: red;\n",
       "}\n",
       "\n",
       "div.input_area{\n",
       "\tborder: 2pt solid #CACD8B\n",
       ";\n",
       "}\n",
       "div.cell { /* set cell width */\n",
       "\n",
       "\tmargin-bottom: 5pt;\n",
       "}\n",
       "\n",
       ".container {\n",
       "\twidth: 85%;\n",
       "}\n",
       "#notebook li { /* More space between bullet points */\n",
       "    margin-top:0.7em;\n",
       "}\n",
       "\n",
       "/* draw border around running cells */\n",
       "div.cell.border-box-sizing.code_cell.running { \n",
       "    border: 1px solid black;\n",
       "}\n",
       "/* THIS IS FOR JUSTIFYING */\n",
       ".text_cell_render p{\n",
       "\ttext-align: justify;\n",
       "}\n",
       "/* Put a solid color box around each cell and its output, visually linking them*/\n",
       "div.cell.code_cell {\n",
       "    font-family: 'Consolas';\n",
       "    background-color: rgb(256,256,256);\n",
       "    font-size: 100%;\n",
       "    border-radius: 0pt; \n",
       "    padding: 0.1em;\n",
       "\twidth: 95%;\n",
       "    margin-left:1em;\n",
       "    margin-top: 1em;\n",
       "}\n",
       "\n",
       "div.text_cell_render{\n",
       "    font-family: 'Times New Roman';\n",
       "    line-height: 145%;\n",
       "    font-size: 110%;\n",
       "    text-align: justify;\n",
       "    font-weight: 500;\n",
       "    width:95%;\n",
       "    margin-left:0em;\n",
       "    margin-top:0em;\n",
       "\tmargin-bottom: 0em;\n",
       "}\n",
       "\n",
       "/* Formatting for header cells */\n",
       ".text_cell_render h1, .text_cell_render h2, .text_cell_render h3,\n",
       ".text_cell_render h4, .text_cell_render h5 {\n",
       "    font-family: 'Garamond', 'Ubuntu Condensed', sans-serif;\n",
       "}\n",
       "\n",
       ".text_cell_render h1 {\n",
       "    text-align: center;\n",
       "    font-weight: 600;\n",
       "    font-size: 250%;\n",
       "    line-height: 100%;\n",
       "    color: blue;\n",
       "    margin-bottom: 0.1em;\n",
       "    margin-top: 0.1em;\n",
       "    display: block;\n",
       "\tfont-style: bold;\n",
       "}\n",
       "\n",
       ".text_cell_render h2 {\n",
       "\ttext-align: justify;\n",
       "\tline-height: 100%;\n",
       "    font-size: 180%;\n",
       "    font-weight: bold;\n",
       "    margin-bottom: 0.0em;\n",
       "    margin-top: 0.0em;\n",
       "    font-style: bold;\n",
       "    color: #477C9A;\n",
       "}\t\n",
       "\n",
       ".text_cell_render h3 {\n",
       "\ttext-align: justify;\n",
       "    font-size: 160%;\n",
       "    font-weight: bold;\n",
       "    margin-bottom: 0.1em;\n",
       "    margin-top: 0.1em;\n",
       "    font-style: italic;\n",
       "    color:  #477C9A;\n",
       "}\n",
       "\n",
       ".text_cell_render h4 {    /*Use this for captions*/\n",
       "    font-size: 140%;\n",
       "    font-weight: bold;\n",
       "    text-align: justify;\n",
       "    margin-bottom: 0.1em;\n",
       "    margin-top: 0.1em;\n",
       "    font-style: regular;\n",
       "    color:  #477C9A;\n",
       "}\n",
       "\n",
       ".text_cell_render h5 {  /*Use this for small titles*/\n",
       "\ttext-align: justify;\n",
       "    font-size: 120%;\n",
       "    font-weight: 550;\n",
       "    color: rgb(163,0,0);\n",
       "    font-style: italic;\n",
       "    margin-bottom: .1em;\n",
       "    margin-top: 0.8em;\n",
       "    display: block;\n",
       "    color:  #7E7D7D;\n",
       "}\n",
       "\n",
       ".text_cell_render h6 { /*use this for copyright note*/\n",
       "\ttext-align: justify;\n",
       "    font-family: 'Ubuntu Condensed', sans-serif;\n",
       "    font-weight: 300;\n",
       "    font-size: 12pt;\n",
       "    line-height: 100%;\n",
       "    color: #252525;\n",
       "    text-align: right;\n",
       "    margin-bottom: 1px;\n",
       "    margin-top: 1px;\n",
       "}\n",
       "\n",
       ".CodeMirror{\n",
       "        font-family: 'Consolas', 'Symbol';\n",
       "        font-size: 100%;\n",
       "}\n",
       "\n",
       "</style>\n",
       "<script>\n",
       "    MathJax.Hub.Config({\n",
       "                        TeX: {\n",
       "                           extensions: [\"AMSmath.js\"],\n",
       "                           equationNumbers: { autoNumber: \"AMS\", useLabelIds: true}\n",
       "                           },\n",
       "                tex2jax: {\n",
       "                    inlineMath: [ ['$','$'], [\"\\\\(\",\"\\\\)\"] ],\n",
       "                    displayMath: [ ['$$','$$'], [\"\\\\[\",\"\\\\]\"] ]\n",
       "                },\n",
       "                displayAlign: 'center', // Change this to 'center' to center equations.\n",
       "                \"HTML-CSS\": {\n",
       "                    styles: {'.MathJax_Display': {\"margin\": 4}}\n",
       "                }\n",
       "        });\n",
       "</script>\n"
      ],
      "text/plain": [
       "<IPython.core.display.HTML object>"
      ]
     },
     "execution_count": 1,
     "metadata": {},
     "output_type": "execute_result"
    }
   ],
   "source": [
    "# Esta celda da el estilo al notebook\n",
    "from IPython.core.display import HTML\n",
    "css_style = r'..\\style_1.css'\n",
    "css_file =  css_style\n",
    "HTML(open(css_file, \"r\").read())"
   ]
  },
  {
   "cell_type": "markdown",
   "metadata": {},
   "source": [
    "## 1. Types of simple objects"
   ]
  },
  {
   "cell_type": "markdown",
   "metadata": {},
   "source": [
    "Everything in Python is an object. This includes the numbers, characters, figures, etc. Concretely, they are classes. The syntax and how it works for numbers and strings is pretty similar to Matlab."
   ]
  },
  {
   "cell_type": "code",
   "execution_count": 2,
   "metadata": {},
   "outputs": [
    {
     "data": {
      "text/plain": [
       "str"
      ]
     },
     "execution_count": 2,
     "metadata": {},
     "output_type": "execute_result"
    }
   ],
   "source": [
    "a = 7       # This is a number\n",
    "b = 'Seven' # This is a string\n",
    "type(b)"
   ]
  },
  {
   "cell_type": "markdown",
   "metadata": {},
   "source": [
    "However, we must be aware of some small differences. For example, if we ask for the type of `a`."
   ]
  },
  {
   "cell_type": "code",
   "execution_count": 3,
   "metadata": {},
   "outputs": [
    {
     "data": {
      "text/plain": [
       "int"
      ]
     },
     "execution_count": 3,
     "metadata": {},
     "output_type": "execute_result"
    }
   ],
   "source": [
    "type(a)"
   ]
  },
  {
   "cell_type": "markdown",
   "metadata": {},
   "source": [
    "It is a number, yeah, but it is not any number. It is an integer. If we now have this:"
   ]
  },
  {
   "cell_type": "code",
   "execution_count": 4,
   "metadata": {},
   "outputs": [
    {
     "data": {
      "text/plain": [
       "float"
      ]
     },
     "execution_count": 4,
     "metadata": {},
     "output_type": "execute_result"
    }
   ],
   "source": [
    "c = 7.0\n",
    "type(c)"
   ]
  },
  {
   "cell_type": "markdown",
   "metadata": {},
   "source": [
    "Then we have another type of number. Sometimes, these can produce errors when working with different numeric data. It is important to have this in mind. For example, a simple `for`loop:"
   ]
  },
  {
   "cell_type": "code",
   "execution_count": 5,
   "metadata": {},
   "outputs": [
    {
     "name": "stdout",
     "output_type": "stream",
     "text": [
      "0\n",
      "1\n",
      "2\n",
      "3\n",
      "4\n",
      "5\n",
      "6\n"
     ]
    }
   ],
   "source": [
    "for i in range(a):\n",
    "    print(i)"
   ]
  },
  {
   "cell_type": "markdown",
   "metadata": {},
   "source": [
    "Now try this:"
   ]
  },
  {
   "cell_type": "markdown",
   "metadata": {},
   "source": [
    "```python\n",
    "for i in range(c):\n",
    "    print(i)\n",
    "```"
   ]
  },
  {
   "cell_type": "markdown",
   "metadata": {},
   "source": [
    "There we have a problem. We must convert the number to one that it can be understood."
   ]
  },
  {
   "cell_type": "code",
   "execution_count": 6,
   "metadata": {},
   "outputs": [
    {
     "name": "stdout",
     "output_type": "stream",
     "text": [
      "0\n",
      "1\n",
      "2\n",
      "3\n",
      "4\n",
      "5\n",
      "6\n"
     ]
    }
   ],
   "source": [
    "for i in range(int(c)):\n",
    "    print(i)"
   ]
  },
  {
   "cell_type": "markdown",
   "metadata": {},
   "source": [
    "As you may have noticed, there is another important difference with `MATLAB`. In the `for` loop, the initial value was 0, not 1. This will happen for all the multipart objects. For example, if we have the folowing string: "
   ]
  },
  {
   "cell_type": "code",
   "execution_count": 7,
   "metadata": {},
   "outputs": [
    {
     "name": "stdout",
     "output_type": "stream",
     "text": [
      "The first letter is: I\n"
     ]
    }
   ],
   "source": [
    "text = 'Infeasible'\n",
    "print('The first letter is:', text[0])"
   ]
  },
  {
   "cell_type": "markdown",
   "metadata": {},
   "source": [
    "Additionally, differently from `MATLAB`, the partitions of an object are selected using `[]`, and not `()`. Since we are on the subject, these are a few shortcuts:"
   ]
  },
  {
   "cell_type": "code",
   "execution_count": 8,
   "metadata": {
    "scrolled": true
   },
   "outputs": [
    {
     "name": "stdout",
     "output_type": "stream",
     "text": [
      "The last letter: e\n",
      "All but the first letter: nfeasible\n",
      "All but the last letter: Infeasibl\n",
      "From the second letter to the before last: nfeasibl\n"
     ]
    }
   ],
   "source": [
    "print('The last letter:', text[-1])\n",
    "print('All but the first letter:', text[1:])  # Notice that the left side of : includes it\n",
    "print('All but the last letter:', text[:-1])  # The right side does not include it\n",
    "print('From the second letter to the before last:', text[1:-1])"
   ]
  },
  {
   "cell_type": "markdown",
   "metadata": {},
   "source": [
    "Of course, these partitions also work with matrices, as we will see."
   ]
  },
  {
   "cell_type": "markdown",
   "metadata": {},
   "source": [
    "## 2. Lists and arrays"
   ]
  },
  {
   "cell_type": "markdown",
   "metadata": {},
   "source": [
    "Now, a big difference. Lists. Matlab does not have lists. What you get in Matlab from doing this:\n",
    "\n",
    "```matlab\n",
    "A = [1, 'a', 1.2]\n",
    "```\n",
    "\n",
    "Is a big error. In red. This is because Matlab operates with matrices by default. And there is no matrix of strings and numbers. However, if you are using a list, they can be possible:"
   ]
  },
  {
   "cell_type": "code",
   "execution_count": 9,
   "metadata": {},
   "outputs": [
    {
     "name": "stdout",
     "output_type": "stream",
     "text": [
      "[1, 'a', 1.2]\n"
     ]
    }
   ],
   "source": [
    "simple_list = [1, 'a', 1.2]\n",
    "print(simple_list)"
   ]
  },
  {
   "cell_type": "markdown",
   "metadata": {},
   "source": [
    "So is a list a super matrix? Nope. It is a list. And it's best seen when you see the following:"
   ]
  },
  {
   "cell_type": "code",
   "execution_count": 10,
   "metadata": {},
   "outputs": [
    {
     "name": "stdout",
     "output_type": "stream",
     "text": [
      "[1, 2, 3, 2, 3, 4]\n"
     ]
    }
   ],
   "source": [
    "a = [1,2,3]\n",
    "b = [2,3,4]\n",
    "print(a+b)"
   ]
  },
  {
   "cell_type": "markdown",
   "metadata": {},
   "source": [
    "That is a weird vector sum. Very weird, actually. The thing is, that adding a list to another list only appends the elements. If we want to use vectors, matrices (Arrays), we must import them from the Numerical Python package `numpy`."
   ]
  },
  {
   "cell_type": "code",
   "execution_count": 11,
   "metadata": {},
   "outputs": [
    {
     "name": "stdout",
     "output_type": "stream",
     "text": [
      "[3 5 7]\n"
     ]
    }
   ],
   "source": [
    "import numpy as np\n",
    "a = np.array([1,2,3])\n",
    "b = np.array([2,3,4])\n",
    "print(a+b)"
   ]
  },
  {
   "cell_type": "markdown",
   "metadata": {},
   "source": [
    "So, a `numpy.array` is MATLAB, right? Yes and no. Numpy arrays are formed with lists, so their sintaxis is a bit more strict and long than Matlab. For example, if you want a 2x2 matrix in matlab, you just write this:\n",
    "\n",
    "```Matlab\n",
    "A = [1 3; 4 5]\n",
    "```"
   ]
  },
  {
   "cell_type": "markdown",
   "metadata": {},
   "source": [
    "The same matrix in python would be:"
   ]
  },
  {
   "cell_type": "code",
   "execution_count": 12,
   "metadata": {},
   "outputs": [
    {
     "name": "stdout",
     "output_type": "stream",
     "text": [
      "[[1 3]\n",
      " [4 5]]\n"
     ]
    }
   ],
   "source": [
    "A = np.array([[1,3],[4,5]])\n",
    "print(A)"
   ]
  },
  {
   "cell_type": "markdown",
   "metadata": {},
   "source": [
    "Notice this is a **nested list**. This meaning, the list would be:"
   ]
  },
  {
   "cell_type": "code",
   "execution_count": 13,
   "metadata": {},
   "outputs": [],
   "source": [
    "A_list = [[1,3],[4,5]]"
   ]
  },
  {
   "cell_type": "markdown",
   "metadata": {},
   "source": [
    "This list can be splitted however you want. This is a list with two lists inside."
   ]
  },
  {
   "cell_type": "code",
   "execution_count": 14,
   "metadata": {},
   "outputs": [
    {
     "name": "stdout",
     "output_type": "stream",
     "text": [
      "The first list is: [1, 3]\n",
      "The second list is: [4, 5]\n",
      "The first element of the first list is: 1\n"
     ]
    }
   ],
   "source": [
    "print('The first list is:', A_list[0])\n",
    "print('The second list is:', A_list[1])\n",
    "print('The first element of the first list is:', A_list[0][0])"
   ]
  },
  {
   "cell_type": "markdown",
   "metadata": {},
   "source": [
    "Now, the matrix has the same things. But includes a more intuitively one, from Matlab."
   ]
  },
  {
   "cell_type": "code",
   "execution_count": 15,
   "metadata": {},
   "outputs": [
    {
     "name": "stdout",
     "output_type": "stream",
     "text": [
      "The first list is: [1 3]\n",
      "The second list is: [4 5]\n",
      "The first element of the first list is: 1\n",
      "But it can also be written: 1\n"
     ]
    }
   ],
   "source": [
    "print('The first list is:', A[0])\n",
    "print('The second list is:', A[1])\n",
    "print('The first element of the first list is:', A[0][0])\n",
    "print('But it can also be written:', A[0,0])"
   ]
  },
  {
   "cell_type": "markdown",
   "metadata": {},
   "source": [
    "We won't be using matrices with Pyomo. But we will use a lot of lists. So it is important to get the slicing right.\n",
    "\n",
    "Just as an informative datum. In Python, there exist 1-D vectors. For example:"
   ]
  },
  {
   "cell_type": "code",
   "execution_count": 16,
   "metadata": {},
   "outputs": [
    {
     "data": {
      "text/plain": [
       "(3,)"
      ]
     },
     "execution_count": 16,
     "metadata": {},
     "output_type": "execute_result"
    }
   ],
   "source": [
    "a.shape"
   ]
  },
  {
   "cell_type": "markdown",
   "metadata": {},
   "source": [
    "This is neither a row nor a column vector. It's a 1D vector. Something to take into account when performing matrix multiplication."
   ]
  },
  {
   "cell_type": "code",
   "execution_count": 17,
   "metadata": {},
   "outputs": [
    {
     "data": {
      "text/plain": [
       "14"
      ]
     },
     "execution_count": 17,
     "metadata": {},
     "output_type": "execute_result"
    }
   ],
   "source": [
    "np.dot(a,a)   # Two 1-D are multiplied in a manner that it makes sense."
   ]
  },
  {
   "cell_type": "code",
   "execution_count": 18,
   "metadata": {},
   "outputs": [
    {
     "name": "stdout",
     "output_type": "stream",
     "text": [
      "[ 9 13]\n",
      "[ 7 14]\n"
     ]
    }
   ],
   "source": [
    "b = np.array([1,2])\n",
    "print(np.dot(b,A))  \n",
    "print(np.dot(A,b))  # The vector form is changed depending on the dimensions."
   ]
  },
  {
   "cell_type": "markdown",
   "metadata": {},
   "source": [
    "## 3. Functions"
   ]
  },
  {
   "cell_type": "markdown",
   "metadata": {},
   "source": [
    "Functions are the most widely used (after numbers and stuff) class. They allow to automate a lot of things. Their definition varies a bit from Matlab. In Matlab, you define a function with:\n",
    "\n",
    "```matlab\n",
    "function z = f(x,y)\n",
    "end \n",
    "```"
   ]
  },
  {
   "cell_type": "markdown",
   "metadata": {},
   "source": [
    "Where:\n",
    "\n",
    "- `z`: Output of the function\n",
    "- `x,y`: Inputs of the function"
   ]
  },
  {
   "cell_type": "markdown",
   "metadata": {},
   "source": [
    "In Python, the output is defined at the end of the function."
   ]
  },
  {
   "cell_type": "code",
   "execution_count": 19,
   "metadata": {},
   "outputs": [],
   "source": [
    "def f(x,y):\n",
    "    return x+y"
   ]
  },
  {
   "cell_type": "markdown",
   "metadata": {},
   "source": [
    "We don't need to define the output with another name if we don't want to:"
   ]
  },
  {
   "cell_type": "code",
   "execution_count": 20,
   "metadata": {},
   "outputs": [
    {
     "data": {
      "text/plain": [
       "5"
      ]
     },
     "execution_count": 20,
     "metadata": {},
     "output_type": "execute_result"
    }
   ],
   "source": [
    "f(3,2)"
   ]
  },
  {
   "cell_type": "markdown",
   "metadata": {},
   "source": [
    "## 4. Conditionals and Loops"
   ]
  },
  {
   "cell_type": "markdown",
   "metadata": {},
   "source": [
    "In the same manner as in other languages, both `for` loops and `if` statements are widely used in Python. The standard syntaxis looks like:"
   ]
  },
  {
   "cell_type": "code",
   "execution_count": 21,
   "metadata": {},
   "outputs": [
    {
     "name": "stdout",
     "output_type": "stream",
     "text": [
      "2\n",
      "4\n",
      "6\n"
     ]
    }
   ],
   "source": [
    "for i in range(1,8):\n",
    "    if i%2==0:\n",
    "        print(i)"
   ]
  },
  {
   "cell_type": "markdown",
   "metadata": {},
   "source": [
    "With multiple elements is a bit different:"
   ]
  },
  {
   "cell_type": "code",
   "execution_count": 22,
   "metadata": {},
   "outputs": [],
   "source": [
    "array1 = np.array([True,False,True])\n",
    "array2 = np.array([True,False,False])"
   ]
  },
  {
   "cell_type": "code",
   "execution_count": 23,
   "metadata": {},
   "outputs": [
    {
     "data": {
      "text/plain": [
       "array([ True, False, False])"
      ]
     },
     "execution_count": 23,
     "metadata": {},
     "output_type": "execute_result"
    }
   ],
   "source": [
    "array1 & array2"
   ]
  },
  {
   "cell_type": "code",
   "execution_count": 24,
   "metadata": {},
   "outputs": [
    {
     "data": {
      "text/plain": [
       "array([ True, False,  True])"
      ]
     },
     "execution_count": 24,
     "metadata": {},
     "output_type": "execute_result"
    }
   ],
   "source": [
    "array1 | array2"
   ]
  },
  {
   "cell_type": "markdown",
   "metadata": {},
   "source": [
    "Common elements from a loop:"
   ]
  },
  {
   "cell_type": "code",
   "execution_count": 36,
   "metadata": {},
   "outputs": [
    {
     "name": "stdout",
     "output_type": "stream",
     "text": [
      "0\n",
      "1\n",
      "2\n",
      "0 hola\n",
      "1 que\n",
      "2 tal\n"
     ]
    }
   ],
   "source": [
    "for i in range(0,3):\n",
    "    print(i)\n",
    "for n,i in enumerate(['hola', 'que', 'tal']):\n",
    "    print(n,i)"
   ]
  },
  {
   "cell_type": "markdown",
   "metadata": {},
   "source": [
    "Be careful with the difference between `range` and `in`:"
   ]
  },
  {
   "cell_type": "code",
   "execution_count": 39,
   "metadata": {},
   "outputs": [
    {
     "name": "stdout",
     "output_type": "stream",
     "text": [
      "1\n",
      "3\n",
      "4\n",
      "5\n",
      "----------------\n",
      "0\n",
      "1\n",
      "2\n",
      "3\n"
     ]
    }
   ],
   "source": [
    "values = [1,3,4,5]\n",
    "for i in values:\n",
    "    print(i)\n",
    "print('----------------')\n",
    "for i in range(len(values)):\n",
    "    print(i)"
   ]
  },
  {
   "cell_type": "markdown",
   "metadata": {},
   "source": [
    "A bit more advanced topic are list loops. For the following:"
   ]
  },
  {
   "cell_type": "code",
   "execution_count": 44,
   "metadata": {},
   "outputs": [
    {
     "name": "stdout",
     "output_type": "stream",
     "text": [
      "[0, 1, 2] [0, 1, 2]\n"
     ]
    }
   ],
   "source": [
    "a = []\n",
    "for i in range(3):\n",
    "    a.append(i)\n",
    "b = [i for i in range(3)]\n",
    "print(a,b)"
   ]
  },
  {
   "cell_type": "markdown",
   "metadata": {},
   "source": [
    "This reduces a lot of time and space when writing loops:"
   ]
  },
  {
   "cell_type": "code",
   "execution_count": 45,
   "metadata": {},
   "outputs": [
    {
     "name": "stdout",
     "output_type": "stream",
     "text": [
      "['k0', 'k1', 'k2']\n",
      "['k0', 'k1', 'k2']\n",
      "['k0', 'k1', 'k2']\n"
     ]
    }
   ],
   "source": [
    "k1 = []\n",
    "[k1.append('k'+str(i)) for i in range(3)]\n",
    "k2 = ['k'+str(i) for i in range(3)]\n",
    "k3 = []\n",
    "for i in range(3):\n",
    "    k3.append('k'+str(i))\n",
    "print(k1)\n",
    "print(k2)\n",
    "print(k3)"
   ]
  },
  {
   "cell_type": "markdown",
   "metadata": {},
   "source": [
    "## 5. Dictionaries"
   ]
  },
  {
   "cell_type": "markdown",
   "metadata": {},
   "source": [
    "These are the main tools used to define sets in Pyomo. A dictionary is, continuing the analogy with MATLAB, a cell. They are defined by `{}`"
   ]
  },
  {
   "cell_type": "code",
   "execution_count": 25,
   "metadata": {},
   "outputs": [
    {
     "data": {
      "text/plain": [
       "{}"
      ]
     },
     "execution_count": 25,
     "metadata": {},
     "output_type": "execute_result"
    }
   ],
   "source": [
    "dictionary = {}\n",
    "dictionary"
   ]
  },
  {
   "cell_type": "markdown",
   "metadata": {},
   "source": [
    "You can create it with things already inside, or add the things once created. Dictionaries have two main parts. Keys and values. You can add any variable to a key, and even tuples. You can add anything to their values:"
   ]
  },
  {
   "cell_type": "code",
   "execution_count": 26,
   "metadata": {},
   "outputs": [
    {
     "data": {
      "text/plain": [
       "{('a', 'b'): 2, 'a': [2, 3, 4], (18, 29): array([2, 3, 4]), 0: 'Hello'}"
      ]
     },
     "execution_count": 26,
     "metadata": {},
     "output_type": "execute_result"
    }
   ],
   "source": [
    "dictionary['a','b']= 2\n",
    "dictionary['a'] = [2,3,4]\n",
    "dictionary[18,29] = np.array([2,3,4])\n",
    "dictionary[0] = 'Hello'\n",
    "dictionary"
   ]
  },
  {
   "cell_type": "code",
   "execution_count": 33,
   "metadata": {},
   "outputs": [
    {
     "name": "stdout",
     "output_type": "stream",
     "text": [
      "This takes the keys ('a', 'b')\n",
      "This takes the values 2\n",
      "This takes the keys a\n",
      "This takes the values [2, 3, 4]\n",
      "This takes the keys (18, 29)\n",
      "This takes the values [2 3 4]\n",
      "This takes the keys 0\n",
      "This takes the values Hello\n"
     ]
    }
   ],
   "source": [
    "for i in dictionary:\n",
    "    print('This takes the keys',i)\n",
    "    print('This takes the values', dictionary[i])"
   ]
  }
 ],
 "metadata": {
  "kernelspec": {
   "display_name": "Python 3",
   "language": "python",
   "name": "python3"
  },
  "language_info": {
   "codemirror_mode": {
    "name": "ipython",
    "version": 3
   },
   "file_extension": ".py",
   "mimetype": "text/x-python",
   "name": "python",
   "nbconvert_exporter": "python",
   "pygments_lexer": "ipython3",
   "version": "3.7.6"
  }
 },
 "nbformat": 4,
 "nbformat_minor": 2
}
