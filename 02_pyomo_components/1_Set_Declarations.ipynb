{
 "cells": [
  {
   "cell_type": "markdown",
   "metadata": {},
   "source": [
    "# Pyomo Sets"
   ]
  },
  {
   "cell_type": "code",
   "execution_count": 1,
   "metadata": {},
   "outputs": [
    {
     "data": {
      "text/html": [
       "/* This template is inspired in the one used by Lorena Barba\n",
       "in the numerical-mooc repository: https://github.com/numerical-mooc/numerical-mooc\n",
       "We thank her work and hope you also enjoy the look of the notobooks with this style */\n",
       "\n",
       "<link href='https://fonts.googleapis.com/css?family=Sofia' rel='stylesheet'>\n",
       "<style>\n",
       "\n",
       "\n",
       "\n",
       "#notebook_panel { /* main background */\n",
       "    background: None;\n",
       "}\n",
       "\n",
       "div #notebook { /* centre the content */\n",
       "    background: #fff; /* white background for content */\n",
       "\tfont-size: 12pt;\n",
       "    width: 100%;\n",
       "    margin: auto;\n",
       "    padding-left: 0pt;\n",
       "\tcolor: red;\n",
       "}\n",
       "\n",
       "div.input_area{\n",
       "\tborder: 2pt solid #CACD8B\n",
       ";\n",
       "}\n",
       "div.cell { /* set cell width */\n",
       "\n",
       "\tmargin-bottom: 5pt;\n",
       "}\n",
       "\n",
       ".container {\n",
       "\twidth: 85%;\n",
       "}\n",
       "#notebook li { /* More space between bullet points */\n",
       "    margin-top:0.7em;\n",
       "}\n",
       "\n",
       "/* draw border around running cells */\n",
       "div.cell.border-box-sizing.code_cell.running { \n",
       "    border: 1px solid black;\n",
       "}\n",
       "/* THIS IS FOR JUSTIFYING */\n",
       ".text_cell_render p{\n",
       "\ttext-align: justify;\n",
       "}\n",
       "/* Put a solid color box around each cell and its output, visually linking them*/\n",
       "div.cell.code_cell {\n",
       "    font-family: 'Consolas';\n",
       "    background-color: rgb(256,256,256);\n",
       "    font-size: 100%;\n",
       "    border-radius: 0pt; \n",
       "    padding: 0.1em;\n",
       "\twidth: 95%;\n",
       "    margin-left:1em;\n",
       "    margin-top: 1em;\n",
       "}\n",
       "\n",
       "div.text_cell_render{\n",
       "    font-family: 'Times New Roman';\n",
       "    line-height: 145%;\n",
       "    font-size: 110%;\n",
       "    text-align: justify;\n",
       "    font-weight: 500;\n",
       "    width:95%;\n",
       "    margin-left:0em;\n",
       "    margin-top:0em;\n",
       "\tmargin-bottom: 0em;\n",
       "}\n",
       "\n",
       "/* Formatting for header cells */\n",
       ".text_cell_render h1, .text_cell_render h2, .text_cell_render h3,\n",
       ".text_cell_render h4, .text_cell_render h5 {\n",
       "    font-family: 'Garamond', 'Ubuntu Condensed', sans-serif;\n",
       "}\n",
       "\n",
       ".text_cell_render h1 {\n",
       "    text-align: center;\n",
       "    font-weight: 600;\n",
       "    font-size: 250%;\n",
       "    line-height: 100%;\n",
       "    color: blue;\n",
       "    margin-bottom: 0.1em;\n",
       "    margin-top: 0.1em;\n",
       "    display: block;\n",
       "\tfont-style: bold;\n",
       "}\n",
       "\n",
       ".text_cell_render h2 {\n",
       "\ttext-align: justify;\n",
       "\tline-height: 100%;\n",
       "    font-size: 180%;\n",
       "    font-weight: bold;\n",
       "    margin-bottom: 0.0em;\n",
       "    margin-top: 0.0em;\n",
       "    font-style: bold;\n",
       "    color: #477C9A;\n",
       "}\t\n",
       "\n",
       ".text_cell_render h3 {\n",
       "\ttext-align: justify;\n",
       "    font-size: 160%;\n",
       "    font-weight: bold;\n",
       "    margin-bottom: 0.1em;\n",
       "    margin-top: 0.1em;\n",
       "    font-style: italic;\n",
       "    color:  #477C9A;\n",
       "}\n",
       "\n",
       ".text_cell_render h4 {    /*Use this for captions*/\n",
       "    font-size: 140%;\n",
       "    font-weight: bold;\n",
       "    text-align: justify;\n",
       "    margin-bottom: 0.1em;\n",
       "    margin-top: 0.1em;\n",
       "    font-style: regular;\n",
       "    color:  #477C9A;\n",
       "}\n",
       "\n",
       ".text_cell_render h5 {  /*Use this for small titles*/\n",
       "\ttext-align: justify;\n",
       "    font-size: 120%;\n",
       "    font-weight: 550;\n",
       "    color: rgb(163,0,0);\n",
       "    font-style: italic;\n",
       "    margin-bottom: .1em;\n",
       "    margin-top: 0.8em;\n",
       "    display: block;\n",
       "    color:  #7E7D7D;\n",
       "}\n",
       "\n",
       ".text_cell_render h6 { /*use this for copyright note*/\n",
       "\ttext-align: justify;\n",
       "    font-family: 'Ubuntu Condensed', sans-serif;\n",
       "    font-weight: 300;\n",
       "    font-size: 12pt;\n",
       "    line-height: 100%;\n",
       "    color: #252525;\n",
       "    text-align: right;\n",
       "    margin-bottom: 1px;\n",
       "    margin-top: 1px;\n",
       "}\n",
       "\n",
       ".CodeMirror{\n",
       "        font-family: 'Consolas', 'Symbol';\n",
       "        font-size: 100%;\n",
       "}\n",
       "\n",
       "</style>\n",
       "<script>\n",
       "    MathJax.Hub.Config({\n",
       "                        TeX: {\n",
       "                           extensions: [\"AMSmath.js\"],\n",
       "                           equationNumbers: { autoNumber: \"AMS\", useLabelIds: true}\n",
       "                           },\n",
       "                tex2jax: {\n",
       "                    inlineMath: [ ['$','$'], [\"\\\\(\",\"\\\\)\"] ],\n",
       "                    displayMath: [ ['$$','$$'], [\"\\\\[\",\"\\\\]\"] ]\n",
       "                },\n",
       "                displayAlign: 'center', // Change this to 'center' to center equations.\n",
       "                \"HTML-CSS\": {\n",
       "                    styles: {'.MathJax_Display': {\"margin\": 4}}\n",
       "                }\n",
       "        });\n",
       "</script>\n"
      ],
      "text/plain": [
       "<IPython.core.display.HTML object>"
      ]
     },
     "execution_count": 1,
     "metadata": {},
     "output_type": "execute_result"
    }
   ],
   "source": [
    "# Esta celda da el estilo al notebook\n",
    "from IPython.core.display import HTML\n",
    "\n",
    "css_style = r'..\\style_1.css'\n",
    "css_file = css_style\n",
    "HTML(open(css_file, \"r\").read())"
   ]
  },
  {
   "cell_type": "markdown",
   "metadata": {},
   "source": [
    " Sets are a fundamental component in any algebraic modeling language (AML). A set is a collection of data (both numerical or alpha-numerical) used to specify the valid indices for the indexed components, such as variables or parameters, in a model."
   ]
  },
  {
   "cell_type": "code",
   "execution_count": 2,
   "metadata": {},
   "outputs": [],
   "source": [
    "from  pyomo.environ import *\n",
    "m = ConcreteModel()"
   ]
  },
  {
   "cell_type": "markdown",
   "metadata": {},
   "source": [
    "In order to create the following set example\n",
    "$$A = \\{1, 2, 3, 4\\}$$\n"
   ]
  },
  {
   "cell_type": "code",
   "execution_count": 3,
   "metadata": {},
   "outputs": [],
   "source": [
    "A = m.A = Set(initialize = [1, 2, 3, 4])"
   ]
  },
  {
   "cell_type": "markdown",
   "metadata": {},
   "source": [
    "To visualize the object:"
   ]
  },
  {
   "cell_type": "code",
   "execution_count": 4,
   "metadata": {},
   "outputs": [
    {
     "name": "stdout",
     "output_type": "stream",
     "text": [
      "A : Dim=0, Dimen=1, Size=4, Domain=None, Ordered=False, Bounds=(1, 4)\n",
      "    [1, 2, 3, 4]\n"
     ]
    }
   ],
   "source": [
    "A.pprint()"
   ]
  },
  {
   "cell_type": "markdown",
   "metadata": {
    "collapsed": true
   },
   "source": [
    "Sequential sets are a common thing. For example:\n",
    "$$B = \\{20, 21, ..., 40\\}$$"
   ]
  },
  {
   "cell_type": "code",
   "execution_count": 5,
   "metadata": {},
   "outputs": [],
   "source": [
    "B = m.B = RangeSet(20,40)"
   ]
  },
  {
   "cell_type": "code",
   "execution_count": 6,
   "metadata": {
    "scrolled": true
   },
   "outputs": [
    {
     "name": "stdout",
     "output_type": "stream",
     "text": [
      "B : Dim=0, Dimen=1, Size=21, Domain=Integers, Ordered=True, Bounds=(20, 40)\n",
      "    Virtual\n"
     ]
    }
   ],
   "source": [
    "B.pprint()"
   ]
  },
  {
   "cell_type": "code",
   "execution_count": 7,
   "metadata": {},
   "outputs": [
    {
     "name": "stdout",
     "output_type": "stream",
     "text": [
      "20\n",
      "21\n",
      "22\n",
      "23\n",
      "24\n",
      "25\n",
      "26\n",
      "27\n",
      "28\n",
      "29\n",
      "30\n",
      "31\n",
      "32\n",
      "33\n",
      "34\n",
      "35\n",
      "36\n",
      "37\n",
      "38\n",
      "39\n",
      "40\n"
     ]
    }
   ],
   "source": [
    "for i in B:\n",
    "    print(i)"
   ]
  },
  {
   "cell_type": "markdown",
   "metadata": {
    "collapsed": true
   },
   "source": [
    "Differently from Python range function, this is not omitting the last number given."
   ]
  },
  {
   "cell_type": "code",
   "execution_count": 8,
   "metadata": {},
   "outputs": [
    {
     "name": "stdout",
     "output_type": "stream",
     "text": [
      "C : Dim=0, Dimen=1, Size=20, Domain=None, Ordered=False, Bounds=(20, 39)\n",
      "    [20, 21, 22, 23, 24, 25, 26, 27, 28, 29, 30, 31, 32, 33, 34, 35, 36, 37, 38, 39]\n"
     ]
    }
   ],
   "source": [
    "C = m.C = Set(initialize = range(20,40))\n",
    "C.pprint()"
   ]
  },
  {
   "cell_type": "markdown",
   "metadata": {
    "collapsed": true
   },
   "source": [
    "Alpha-numeric sets are also common. They can be created from lists.\n",
    "$$D = \\{d1, d2, d3, d4\\}$$"
   ]
  },
  {
   "cell_type": "code",
   "execution_count": 9,
   "metadata": {},
   "outputs": [
    {
     "name": "stdout",
     "output_type": "stream",
     "text": [
      "D : Dim=0, Dimen=1, Size=4, Domain=None, Ordered=False, Bounds=None\n",
      "    ['d1', 'd2', 'd3', 'd4']\n"
     ]
    }
   ],
   "source": [
    "D = m.D = Set(initialize = ['d1', 'd2', 'd3', 'd4'])\n",
    "D.pprint()"
   ]
  },
  {
   "cell_type": "markdown",
   "metadata": {
    "collapsed": true
   },
   "source": [
    "In order to access an element of the set, it must be ordered."
   ]
  },
  {
   "cell_type": "code",
   "execution_count": 10,
   "metadata": {},
   "outputs": [
    {
     "name": "stdout",
     "output_type": "stream",
     "text": [
      "WARNING: Implicitly replacing the Component attribute D (type=<class\n",
      "    'pyomo.core.base.sets.SimpleSet'>) on block unknown with a new Component\n",
      "    (type=<class 'pyomo.core.base.sets.OrderedSimpleSet'>). This is usually\n",
      "    indicative of a modelling error. To avoid this warning, use\n",
      "    block.del_component() and block.add_component().\n"
     ]
    }
   ],
   "source": [
    "D = m.D = Set(initialize = ['d1', 'd2', 'd3', 'd4'], ordered = True)"
   ]
  },
  {
   "cell_type": "code",
   "execution_count": 11,
   "metadata": {},
   "outputs": [
    {
     "data": {
      "text/plain": [
       "'d3'"
      ]
     },
     "execution_count": 11,
     "metadata": {},
     "output_type": "execute_result"
    }
   ],
   "source": [
    "D[3]\n"
   ]
  },
  {
   "cell_type": "code",
   "execution_count": 12,
   "metadata": {},
   "outputs": [
    {
     "data": {
      "text/plain": [
       "24"
      ]
     },
     "execution_count": 12,
     "metadata": {},
     "output_type": "execute_result"
    }
   ],
   "source": [
    "# RangeSet is an ordered set\n",
    "B[5]"
   ]
  },
  {
   "cell_type": "markdown",
   "metadata": {},
   "source": [
    "### Ordinal and cardinal"
   ]
  },
  {
   "cell_type": "code",
   "execution_count": 13,
   "metadata": {},
   "outputs": [
    {
     "data": {
      "text/plain": [
       "3"
      ]
     },
     "execution_count": 13,
     "metadata": {},
     "output_type": "execute_result"
    }
   ],
   "source": [
    "D.ord('d3')"
   ]
  },
  {
   "cell_type": "code",
   "execution_count": 14,
   "metadata": {},
   "outputs": [
    {
     "data": {
      "text/plain": [
       "4"
      ]
     },
     "execution_count": 14,
     "metadata": {},
     "output_type": "execute_result"
    }
   ],
   "source": [
    "len(D)"
   ]
  },
  {
   "cell_type": "code",
   "execution_count": 34,
   "metadata": {},
   "outputs": [
    {
     "data": {
      "text/plain": [
       "'d4'"
      ]
     },
     "execution_count": 34,
     "metadata": {},
     "output_type": "execute_result"
    }
   ],
   "source": [
    "D[-1]"
   ]
  },
  {
   "cell_type": "markdown",
   "metadata": {},
   "source": [
    "## Set operations"
   ]
  },
  {
   "cell_type": "markdown",
   "metadata": {
    "collapsed": true
   },
   "source": [
    " Union         [|]  <br>\n",
    "Intersection [&]<br>\n",
    "Difference   [-]<br>\n",
    " Exclusive-or [^]"
   ]
  },
  {
   "cell_type": "code",
   "execution_count": 15,
   "metadata": {},
   "outputs": [],
   "source": [
    "F = m.F = Set(initialize = ['i1', 'i2', 'i3', 'i4'], ordered = True)\n",
    "G = m.G = Set(initialize = ['i3', 'i4', 'i5', 'i6'], ordered = True)"
   ]
  },
  {
   "cell_type": "code",
   "execution_count": 16,
   "metadata": {},
   "outputs": [],
   "source": [
    "# Union\n",
    "H = m.H = Set(initialize = F | G)"
   ]
  },
  {
   "cell_type": "code",
   "execution_count": 17,
   "metadata": {},
   "outputs": [
    {
     "name": "stdout",
     "output_type": "stream",
     "text": [
      "H : Dim=0, Dimen=1, Size=6, Domain=None, Ordered=False, Bounds=None\n",
      "    ['i1', 'i2', 'i3', 'i4', 'i5', 'i6']\n"
     ]
    }
   ],
   "source": [
    "H.pprint()"
   ]
  },
  {
   "cell_type": "code",
   "execution_count": 18,
   "metadata": {},
   "outputs": [
    {
     "name": "stdout",
     "output_type": "stream",
     "text": [
      "I : Dim=0, Dimen=1, Size=2, Domain=None, Ordered=False, Bounds=None\n",
      "    ['i3', 'i4']\n"
     ]
    }
   ],
   "source": [
    "# Intersection\n",
    "I = m.I = Set(initialize = F & G)\n",
    "I.pprint()"
   ]
  },
  {
   "cell_type": "code",
   "execution_count": 19,
   "metadata": {},
   "outputs": [
    {
     "name": "stdout",
     "output_type": "stream",
     "text": [
      "J : Dim=0, Dimen=1, Size=2, Domain=None, Ordered=False, Bounds=None\n",
      "    ['i1', 'i2']\n"
     ]
    }
   ],
   "source": [
    "# Difference\n",
    "J = m.J = Set(initialize = F - G)\n",
    "J.pprint()\n"
   ]
  },
  {
   "cell_type": "code",
   "execution_count": 20,
   "metadata": {},
   "outputs": [
    {
     "name": "stdout",
     "output_type": "stream",
     "text": [
      "K : Dim=0, Dimen=1, Size=4, Domain=None, Ordered=False, Bounds=None\n",
      "    ['i1', 'i2', 'i5', 'i6']\n"
     ]
    }
   ],
   "source": [
    "# Exclusive or\n",
    "K = m.K = Set (initialize = F^G)\n",
    "K.pprint()"
   ]
  },
  {
   "cell_type": "code",
   "execution_count": 21,
   "metadata": {},
   "outputs": [],
   "source": [
    "# Multi dimensional sets\n",
    "\n",
    "country = m.country = Set (initialize = ['spain', 'finland', 'italy', 'germany', 'netherlands'], ordered = True)\n",
    "city    = m.city    = Set (initialize = ['malaga', 'tarragona', 'turku', 'tampere', 'rome', 'bonn', 'delft', 'denhaag'], ordered = True)"
   ]
  },
  {
   "cell_type": "code",
   "execution_count": 22,
   "metadata": {},
   "outputs": [
    {
     "name": "stdout",
     "output_type": "stream",
     "text": [
      "L : Dim=0, Dimen=2, Size=40, Domain=None, Ordered=Insertion, Bounds=None\n",
      "    [('spain', 'malaga'), ('spain', 'tarragona'), ('spain', 'turku'), ('spain', 'tampere'), ('spain', 'rome'), ('spain', 'bonn'), ('spain', 'delft'), ('spain', 'denhaag'), ('finland', 'malaga'), ('finland', 'tarragona'), ('finland', 'turku'), ('finland', 'tampere'), ('finland', 'rome'), ('finland', 'bonn'), ('finland', 'delft'), ('finland', 'denhaag'), ('italy', 'malaga'), ('italy', 'tarragona'), ('italy', 'turku'), ('italy', 'tampere'), ('italy', 'rome'), ('italy', 'bonn'), ('italy', 'delft'), ('italy', 'denhaag'), ('germany', 'malaga'), ('germany', 'tarragona'), ('germany', 'turku'), ('germany', 'tampere'), ('germany', 'rome'), ('germany', 'bonn'), ('germany', 'delft'), ('germany', 'denhaag'), ('netherlands', 'malaga'), ('netherlands', 'tarragona'), ('netherlands', 'turku'), ('netherlands', 'tampere'), ('netherlands', 'rome'), ('netherlands', 'bonn'), ('netherlands', 'delft'), ('netherlands', 'denhaag')]\n"
     ]
    }
   ],
   "source": [
    "# [ cross product ]\n",
    "L  = m.L = Set (initialize = country * city, ordered = True)\n",
    "L.pprint()"
   ]
  },
  {
   "cell_type": "code",
   "execution_count": 23,
   "metadata": {},
   "outputs": [],
   "source": [
    "CC  = m.CC = Set (within = country * city, ordered = True)"
   ]
  },
  {
   "cell_type": "code",
   "execution_count": 24,
   "metadata": {},
   "outputs": [
    {
     "name": "stdout",
     "output_type": "stream",
     "text": [
      "CC : Dim=0, Dimen=2, Size=0, Domain=CC_domain, Ordered=Insertion, Bounds=None\n",
      "    []\n"
     ]
    }
   ],
   "source": [
    "CC.pprint()"
   ]
  },
  {
   "cell_type": "code",
   "execution_count": 25,
   "metadata": {},
   "outputs": [],
   "source": [
    "cc_mapping = { 'spain'     : ('malaga', 'tarragona'),\n",
    "               'finland'   : ('turku', 'tampere'),\n",
    "               'italy'     : ('rome',),\n",
    "               'germany'   : ('bonn',),\n",
    "               'netherlands': ('delft', 'denhaag')}"
   ]
  },
  {
   "cell_type": "code",
   "execution_count": 26,
   "metadata": {},
   "outputs": [],
   "source": [
    "for i in cc_mapping:\n",
    "    for j in cc_mapping[i]:\n",
    "        CC.add((i,j))        "
   ]
  },
  {
   "cell_type": "code",
   "execution_count": 27,
   "metadata": {},
   "outputs": [
    {
     "name": "stdout",
     "output_type": "stream",
     "text": [
      "CC : Dim=0, Dimen=2, Size=8, Domain=CC_domain, Ordered=Insertion, Bounds=None\n",
      "    [('spain', 'malaga'), ('spain', 'tarragona'), ('finland', 'turku'), ('finland', 'tampere'), ('italy', 'rome'), ('germany', 'bonn'), ('netherlands', 'delft'), ('netherlands', 'denhaag')]\n"
     ]
    }
   ],
   "source": [
    "CC.pprint()"
   ]
  },
  {
   "cell_type": "code",
   "execution_count": 28,
   "metadata": {},
   "outputs": [],
   "source": [
    "# Another option ...\n",
    "CC_2 = m.CC_2 = Set(within = country * city, initialize = [\n",
    "        ('spain', 'malaga'), ('spain', 'tarragona'), ('finland', 'turku')\n",
    "    ], ordered = True)"
   ]
  },
  {
   "cell_type": "code",
   "execution_count": 29,
   "metadata": {},
   "outputs": [
    {
     "name": "stdout",
     "output_type": "stream",
     "text": [
      "CC_2 : Dim=0, Dimen=2, Size=3, Domain=CC_2_domain, Ordered=Insertion, Bounds=None\n",
      "    [('spain', 'malaga'), ('spain', 'tarragona'), ('finland', 'turku')]\n"
     ]
    }
   ],
   "source": [
    "CC_2.pprint()\n"
   ]
  },
  {
   "cell_type": "markdown",
   "metadata": {
    "collapsed": true
   },
   "source": [
    "## Filter"
   ]
  },
  {
   "cell_type": "markdown",
   "metadata": {
    "collapsed": true
   },
   "source": [
    "As an example, from a previous V ( V = {v1, v2, v3,v4}) take only the even elements"
   ]
  },
  {
   "cell_type": "code",
   "execution_count": 30,
   "metadata": {},
   "outputs": [
    {
     "name": "stdout",
     "output_type": "stream",
     "text": [
      "['v2', 'v4']\n"
     ]
    }
   ],
   "source": [
    "set_v = m.v = Set(initialize = ['v1','v2','v3','v4'], ordered = True)\n",
    "even_elements = []\n",
    "index = 0\n",
    "for i in set_v:\n",
    "    if index % 2 != 0:\n",
    "        even_elements.append(i)\n",
    "    index += 1\n",
    "print(even_elements)"
   ]
  },
  {
   "cell_type": "code",
   "execution_count": 31,
   "metadata": {
    "scrolled": true
   },
   "outputs": [
    {
     "name": "stdout",
     "output_type": "stream",
     "text": [
      "P : Dim=0, Dimen=1, Size=2, Domain=None, Ordered=Insertion, Bounds=None\n",
      "    ['v1', 'v3']\n"
     ]
    }
   ],
   "source": [
    "def filter_rule (m, i):\n",
    "    return i not in even_elements\n",
    "P = m.P = Set(initialize = set_v, filter = filter_rule, ordered = True)\n",
    "P.pprint()"
   ]
  },
  {
   "cell_type": "markdown",
   "metadata": {},
   "source": [
    "## Exercises"
   ]
  },
  {
   "cell_type": "code",
   "execution_count": 32,
   "metadata": {},
   "outputs": [],
   "source": [
    "m = ConcreteModel()"
   ]
  },
  {
   "cell_type": "markdown",
   "metadata": {},
   "source": [
    "### 1. Create the following set"
   ]
  },
  {
   "cell_type": "markdown",
   "metadata": {},
   "source": [
    "$$ E = \\{e_1,...,e_{50}\\}$$"
   ]
  },
  {
   "cell_type": "markdown",
   "metadata": {},
   "source": [
    "### 2. House construction"
   ]
  },
  {
   "cell_type": "markdown",
   "metadata": {},
   "source": [
    "Create the following Sets:\n",
    "\n",
    "$$ Houses = \\{Small, Medium, Big\\} \\\\\n",
    "Zones = \\{Plains, Mountain, Moon\\}\\\\\n",
    "Price = \\{Cheap, Normal, Expensive\\} $$"
   ]
  },
  {
   "cell_type": "markdown",
   "metadata": {},
   "source": [
    "Construct the following subsets:\n",
    "\n",
    "$$ Buildable(Zones) \\\\\n",
    "NotSmall(Houses)$$\n"
   ]
  },
  {
   "cell_type": "markdown",
   "metadata": {},
   "source": [
    "Construct an alias of the set Houses."
   ]
  },
  {
   "cell_type": "markdown",
   "metadata": {},
   "source": [
    "Construct the following set:\n",
    "\n",
    "$$ S1_{Houses,Zones}$$"
   ]
  },
  {
   "cell_type": "markdown",
   "metadata": {},
   "source": [
    "Construct a Set that associates every zone with the medium size and every price."
   ]
  }
 ],
 "metadata": {
  "kernelspec": {
   "display_name": "Python 3",
   "language": "python",
   "name": "python3"
  },
  "language_info": {
   "codemirror_mode": {
    "name": "ipython",
    "version": 3
   },
   "file_extension": ".py",
   "mimetype": "text/x-python",
   "name": "python",
   "nbconvert_exporter": "python",
   "pygments_lexer": "ipython3",
   "version": "3.7.6"
  }
 },
 "nbformat": 4,
 "nbformat_minor": 1
}
