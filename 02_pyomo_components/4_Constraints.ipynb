{
 "cells": [
  {
   "cell_type": "markdown",
   "metadata": {},
   "source": [
    "# Pyomo constraints"
   ]
  },
  {
   "cell_type": "code",
   "execution_count": 1,
   "metadata": {},
   "outputs": [
    {
     "data": {
      "text/html": [
       "/* This template is inspired in the one used by Lorena Barba\n",
       "in the numerical-mooc repository: https://github.com/numerical-mooc/numerical-mooc\n",
       "We thank her work and hope you also enjoy the look of the notobooks with this style */\n",
       "\n",
       "<link href='https://fonts.googleapis.com/css?family=Sofia' rel='stylesheet'>\n",
       "<style>\n",
       "\n",
       "\n",
       "\n",
       "#notebook_panel { /* main background */\n",
       "    background: None;\n",
       "}\n",
       "\n",
       "div #notebook { /* centre the content */\n",
       "    background: #fff; /* white background for content */\n",
       "\tfont-size: 12pt;\n",
       "    width: 100%;\n",
       "    margin: auto;\n",
       "    padding-left: 0pt;\n",
       "\tcolor: red;\n",
       "}\n",
       "\n",
       "div.input_area{\n",
       "\tborder: 2pt solid #CACD8B\n",
       ";\n",
       "}\n",
       "div.cell { /* set cell width */\n",
       "\n",
       "\tmargin-bottom: 5pt;\n",
       "}\n",
       "\n",
       ".container {\n",
       "\twidth: 85%;\n",
       "}\n",
       "#notebook li { /* More space between bullet points */\n",
       "    margin-top:0.7em;\n",
       "}\n",
       "\n",
       "/* draw border around running cells */\n",
       "div.cell.border-box-sizing.code_cell.running { \n",
       "    border: 1px solid black;\n",
       "}\n",
       "/* THIS IS FOR JUSTIFYING */\n",
       ".text_cell_render p{\n",
       "\ttext-align: justify;\n",
       "}\n",
       "/* Put a solid color box around each cell and its output, visually linking them*/\n",
       "div.cell.code_cell {\n",
       "    font-family: 'Consolas';\n",
       "    background-color: rgb(256,256,256);\n",
       "    font-size: 100%;\n",
       "    border-radius: 0pt; \n",
       "    padding: 0.1em;\n",
       "\twidth: 95%;\n",
       "    margin-left:1em;\n",
       "    margin-top: 1em;\n",
       "}\n",
       "\n",
       "div.text_cell_render{\n",
       "    font-family: 'Times New Roman';\n",
       "    line-height: 145%;\n",
       "    font-size: 110%;\n",
       "    text-align: justify;\n",
       "    font-weight: 500;\n",
       "    width:95%;\n",
       "    margin-left:0em;\n",
       "    margin-top:0em;\n",
       "\tmargin-bottom: 0em;\n",
       "}\n",
       "\n",
       "/* Formatting for header cells */\n",
       ".text_cell_render h1, .text_cell_render h2, .text_cell_render h3,\n",
       ".text_cell_render h4, .text_cell_render h5 {\n",
       "    font-family: 'Garamond', 'Ubuntu Condensed', sans-serif;\n",
       "}\n",
       "\n",
       ".text_cell_render h1 {\n",
       "    text-align: center;\n",
       "    font-weight: 600;\n",
       "    font-size: 250%;\n",
       "    line-height: 100%;\n",
       "    color: blue;\n",
       "    margin-bottom: 0.1em;\n",
       "    margin-top: 0.1em;\n",
       "    display: block;\n",
       "\tfont-style: bold;\n",
       "}\n",
       "\n",
       ".text_cell_render h2 {\n",
       "\ttext-align: justify;\n",
       "\tline-height: 100%;\n",
       "    font-size: 180%;\n",
       "    font-weight: bold;\n",
       "    margin-bottom: 0.0em;\n",
       "    margin-top: 0.0em;\n",
       "    font-style: bold;\n",
       "    color: #477C9A;\n",
       "}\t\n",
       "\n",
       ".text_cell_render h3 {\n",
       "\ttext-align: justify;\n",
       "    font-size: 160%;\n",
       "    font-weight: bold;\n",
       "    margin-bottom: 0.1em;\n",
       "    margin-top: 0.1em;\n",
       "    font-style: italic;\n",
       "    color:  #477C9A;\n",
       "}\n",
       "\n",
       ".text_cell_render h4 {    /*Use this for captions*/\n",
       "    font-size: 140%;\n",
       "    font-weight: bold;\n",
       "    text-align: justify;\n",
       "    margin-bottom: 0.1em;\n",
       "    margin-top: 0.1em;\n",
       "    font-style: regular;\n",
       "    color:  #477C9A;\n",
       "}\n",
       "\n",
       ".text_cell_render h5 {  /*Use this for small titles*/\n",
       "\ttext-align: justify;\n",
       "    font-size: 120%;\n",
       "    font-weight: 550;\n",
       "    color: rgb(163,0,0);\n",
       "    font-style: italic;\n",
       "    margin-bottom: .1em;\n",
       "    margin-top: 0.8em;\n",
       "    display: block;\n",
       "    color:  #7E7D7D;\n",
       "}\n",
       "\n",
       ".text_cell_render h6 { /*use this for copyright note*/\n",
       "\ttext-align: justify;\n",
       "    font-family: 'Ubuntu Condensed', sans-serif;\n",
       "    font-weight: 300;\n",
       "    font-size: 12pt;\n",
       "    line-height: 100%;\n",
       "    color: #252525;\n",
       "    text-align: right;\n",
       "    margin-bottom: 1px;\n",
       "    margin-top: 1px;\n",
       "}\n",
       "\n",
       ".CodeMirror{\n",
       "        font-family: 'Consolas', 'Symbol';\n",
       "        font-size: 100%;\n",
       "}\n",
       "\n",
       "</style>\n",
       "<script>\n",
       "    MathJax.Hub.Config({\n",
       "                        TeX: {\n",
       "                           extensions: [\"AMSmath.js\"],\n",
       "                           equationNumbers: { autoNumber: \"AMS\", useLabelIds: true}\n",
       "                           },\n",
       "                tex2jax: {\n",
       "                    inlineMath: [ ['$','$'], [\"\\\\(\",\"\\\\)\"] ],\n",
       "                    displayMath: [ ['$$','$$'], [\"\\\\[\",\"\\\\]\"] ]\n",
       "                },\n",
       "                displayAlign: 'center', // Change this to 'center' to center equations.\n",
       "                \"HTML-CSS\": {\n",
       "                    styles: {'.MathJax_Display': {\"margin\": 4}}\n",
       "                }\n",
       "        });\n",
       "</script>\n"
      ],
      "text/plain": [
       "<IPython.core.display.HTML object>"
      ]
     },
     "execution_count": 1,
     "metadata": {},
     "output_type": "execute_result"
    }
   ],
   "source": [
    "# Esta celda da el estilo al notebook\n",
    "from IPython.core.display import HTML\n",
    "css_style = r'..\\style_1.css'\n",
    "css_file = css_style\n",
    "HTML(open(css_file, \"r\").read())"
   ]
  },
  {
   "cell_type": "code",
   "execution_count": 2,
   "metadata": {},
   "outputs": [],
   "source": [
    "from pyomo.environ import *"
   ]
  },
  {
   "cell_type": "markdown",
   "metadata": {},
   "source": [
    "## Declaring constraints"
   ]
  },
  {
   "cell_type": "markdown",
   "metadata": {},
   "source": [
    "The most direct way of declaration is:"
   ]
  },
  {
   "cell_type": "code",
   "execution_count": 3,
   "metadata": {},
   "outputs": [],
   "source": [
    "model = ConcreteModel()\n",
    "model.x = Var([1,2], initialize = 1)\n",
    "model.diff = Constraint(expr = model.x[2] - model.x[1] <= 7.5)"
   ]
  },
  {
   "cell_type": "code",
   "execution_count": 4,
   "metadata": {},
   "outputs": [
    {
     "name": "stdout",
     "output_type": "stream",
     "text": [
      "diff : Size=1, Index=None, Active=True\n",
      "    Key  : Lower : Body        : Upper : Active\n",
      "    None :  -Inf : x[2] - x[1] :   7.5 :   True\n"
     ]
    }
   ],
   "source": [
    "model.diff.pprint()"
   ]
  },
  {
   "cell_type": "markdown",
   "metadata": {},
   "source": [
    "It is more intuitive to use `rule` instead of `expr`. For example:"
   ]
  },
  {
   "cell_type": "code",
   "execution_count": 5,
   "metadata": {},
   "outputs": [
    {
     "name": "stdout",
     "output_type": "stream",
     "text": [
      "diff2 : Size=1, Index=None, Active=True\n",
      "    Key  : Lower : Body        : Upper : Active\n",
      "    None :  -Inf : x[2] - x[1] :   7.5 :   True\n"
     ]
    }
   ],
   "source": [
    "def diff_rule(model):\n",
    "    return model.x[2] - model.x[1] <= 7.5\n",
    "model.diff2 = Constraint(rule = diff_rule)\n",
    "model.diff2.pprint()"
   ]
  },
  {
   "cell_type": "markdown",
   "metadata": {},
   "source": [
    "To indicate to which index the restriction applies :"
   ]
  },
  {
   "cell_type": "code",
   "execution_count": 6,
   "metadata": {},
   "outputs": [
    {
     "name": "stdout",
     "output_type": "stream",
     "text": [
      "CoverConstr : Size=3, Index=CoverConstr_index, Active=True\n",
      "    Key : Lower : Body       : Upper : Active\n",
      "      1 :   1.0 :       y[1] :  +Inf :   True\n",
      "      2 :   2.9 : 3.1 * y[2] :  +Inf :   True\n",
      "      3 :   3.1 : 4.5 * y[3] :  +Inf :   True\n"
     ]
    }
   ],
   "source": [
    "N = [1,2,3]\n",
    "a = {1:1, 2:3.1, 3:4.5}\n",
    "b = {1:1, 2:2.9, 3:3.1}\n",
    "\n",
    "model.y = Var(N, within = NonNegativeReals, initialize = 0)\n",
    "\n",
    "def CoverConstr_rule(model,i):\n",
    "    return a[i] * model.y[i] >= b[i]\n",
    "model.CoverConstr = Constraint(N, rule = CoverConstr_rule)\n",
    "model.CoverConstr.pprint()"
   ]
  },
  {
   "cell_type": "markdown",
   "metadata": {},
   "source": [
    "## Types of constraints"
   ]
  },
  {
   "cell_type": "markdown",
   "metadata": {},
   "source": [
    "There are three types of constraints, although it is better to say that there are only two and one that can be expressed like two of other type."
   ]
  },
  {
   "cell_type": "markdown",
   "metadata": {},
   "source": [
    "#### 1) Unequality constraints"
   ]
  },
  {
   "cell_type": "markdown",
   "metadata": {},
   "source": [
    "\n",
    "$$expr_{1} \\leq expr_{2} \\qquad or\\qquad expr_{1} \\geq expr_{2}$$"
   ]
  },
  {
   "cell_type": "markdown",
   "metadata": {},
   "source": [
    "#### 2) Equality constraints"
   ]
  },
  {
   "cell_type": "markdown",
   "metadata": {},
   "source": [
    "\n",
    "$$ expr_{1} = expr_{2}$$"
   ]
  },
  {
   "cell_type": "markdown",
   "metadata": {},
   "source": [
    "#### 3) Bound constraints"
   ]
  },
  {
   "cell_type": "markdown",
   "metadata": {},
   "source": [
    "\n",
    "$$ lb \\leq expr_{1} \\leq ub$$"
   ]
  },
  {
   "cell_type": "markdown",
   "metadata": {},
   "source": [
    "Sometimes, there exists the need of not defining a constraint for a certain case in an index. For example, for a time period (Normally the first or the last). For these cases, we use `Constraint.Skip`."
   ]
  },
  {
   "cell_type": "code",
   "execution_count": 7,
   "metadata": {},
   "outputs": [],
   "source": [
    "model.TimePeriods = Set(initialize = [1,2,3,4,5], ordered = True)"
   ]
  },
  {
   "cell_type": "code",
   "execution_count": 8,
   "metadata": {},
   "outputs": [
    {
     "name": "stdout",
     "output_type": "stream",
     "text": [
      "Pred : Size=4, Index=TimePeriods, Active=True\n",
      "    Key : Lower : Body                        : Upper : Active\n",
      "      1 :  -Inf : StartTime[1] - StartTime[2] :   0.0 :   True\n",
      "      2 :  -Inf : StartTime[2] - StartTime[3] :   0.0 :   True\n",
      "      3 :  -Inf : StartTime[3] - StartTime[4] :   0.0 :   True\n",
      "      4 :  -Inf : StartTime[4] - StartTime[5] :   0.0 :   True\n"
     ]
    }
   ],
   "source": [
    "LastTimePeriod = model.TimePeriods[-1]\n",
    "model.StartTime = Var(model.TimePeriods, initialize = 1)\n",
    "def Pred_rule(model,t):\n",
    "    if t == LastTimePeriod:\n",
    "        return Constraint.Skip\n",
    "    else:\n",
    "        return model.StartTime[t] <= model.StartTime[t+1]\n",
    "model.Pred = Constraint(model.TimePeriods, rule = Pred_rule)\n",
    "model.Pred.pprint()"
   ]
  },
  {
   "cell_type": "markdown",
   "metadata": {},
   "source": [
    "## Obtaining information from constraints"
   ]
  },
  {
   "cell_type": "markdown",
   "metadata": {},
   "source": [
    "Some useful commands to check if what you're writing is what you meant to write."
   ]
  },
  {
   "cell_type": "code",
   "execution_count": 9,
   "metadata": {},
   "outputs": [],
   "source": [
    "m = ConcreteModel()\n",
    "m.x = Var(initialize = 1)\n",
    "m.y = Var(initialize = 1)\n",
    "m.c1 = Constraint(expr = m.y - m.x <= 7.5)\n",
    "m.c2 = Constraint(expr = -2.5 <= m.y - m.x)\n",
    "m.c3 = Constraint(expr = -3 <= m.y - m.x <= 7)"
   ]
  },
  {
   "cell_type": "code",
   "execution_count": 10,
   "metadata": {},
   "outputs": [
    {
     "name": "stdout",
     "output_type": "stream",
     "text": [
      "0\n"
     ]
    }
   ],
   "source": [
    "print(value(m.c1.body))"
   ]
  },
  {
   "cell_type": "code",
   "execution_count": 11,
   "metadata": {},
   "outputs": [
    {
     "name": "stdout",
     "output_type": "stream",
     "text": [
      "y - x\n"
     ]
    }
   ],
   "source": [
    "print(m.c1.body)"
   ]
  },
  {
   "cell_type": "code",
   "execution_count": 12,
   "metadata": {},
   "outputs": [
    {
     "name": "stdout",
     "output_type": "stream",
     "text": [
      "-inf\n",
      "7.5\n"
     ]
    }
   ],
   "source": [
    "print(m.c1.lslack())\n",
    "print(m.c1.uslack())"
   ]
  }
 ],
 "metadata": {
  "kernelspec": {
   "display_name": "Python 3",
   "language": "python",
   "name": "python3"
  },
  "language_info": {
   "codemirror_mode": {
    "name": "ipython",
    "version": 3
   },
   "file_extension": ".py",
   "mimetype": "text/x-python",
   "name": "python",
   "nbconvert_exporter": "python",
   "pygments_lexer": "ipython3",
   "version": "3.7.6"
  }
 },
 "nbformat": 4,
 "nbformat_minor": 2
}
