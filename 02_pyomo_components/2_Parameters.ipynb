{
 "cells": [
  {
   "cell_type": "markdown",
   "metadata": {},
   "source": [
    "# Pyomo Parameters"
   ]
  },
  {
   "cell_type": "code",
   "execution_count": 1,
   "metadata": {},
   "outputs": [
    {
     "data": {
      "text/html": [
       "/* This template is inspired in the one used by Lorena Barba\n",
       "in the numerical-mooc repository: https://github.com/numerical-mooc/numerical-mooc\n",
       "We thank her work and hope you also enjoy the look of the notobooks with this style */\n",
       "\n",
       "<link href='https://fonts.googleapis.com/css?family=Sofia' rel='stylesheet'>\n",
       "<style>\n",
       "\n",
       "\n",
       "\n",
       "#notebook_panel { /* main background */\n",
       "    background: None;\n",
       "}\n",
       "\n",
       "div #notebook { /* centre the content */\n",
       "    background: #fff; /* white background for content */\n",
       "\tfont-size: 12pt;\n",
       "    width: 100%;\n",
       "    margin: auto;\n",
       "    padding-left: 0pt;\n",
       "\tcolor: red;\n",
       "}\n",
       "\n",
       "div.input_area{\n",
       "\tborder: 2pt solid #CACD8B\n",
       ";\n",
       "}\n",
       "div.cell { /* set cell width */\n",
       "\n",
       "\tmargin-bottom: 5pt;\n",
       "}\n",
       "\n",
       ".container {\n",
       "\twidth: 85%;\n",
       "}\n",
       "#notebook li { /* More space between bullet points */\n",
       "    margin-top:0.7em;\n",
       "}\n",
       "\n",
       "/* draw border around running cells */\n",
       "div.cell.border-box-sizing.code_cell.running { \n",
       "    border: 1px solid black;\n",
       "}\n",
       "/* THIS IS FOR JUSTIFYING */\n",
       ".text_cell_render p{\n",
       "\ttext-align: justify;\n",
       "}\n",
       "/* Put a solid color box around each cell and its output, visually linking them*/\n",
       "div.cell.code_cell {\n",
       "    font-family: 'Consolas';\n",
       "    background-color: rgb(256,256,256);\n",
       "    font-size: 100%;\n",
       "    border-radius: 0pt; \n",
       "    padding: 0.1em;\n",
       "\twidth: 95%;\n",
       "    margin-left:1em;\n",
       "    margin-top: 1em;\n",
       "}\n",
       "\n",
       "div.text_cell_render{\n",
       "    font-family: 'Times New Roman';\n",
       "    line-height: 145%;\n",
       "    font-size: 110%;\n",
       "    text-align: justify;\n",
       "    font-weight: 500;\n",
       "    width:95%;\n",
       "    margin-left:0em;\n",
       "    margin-top:0em;\n",
       "\tmargin-bottom: 0em;\n",
       "}\n",
       "\n",
       "/* Formatting for header cells */\n",
       ".text_cell_render h1, .text_cell_render h2, .text_cell_render h3,\n",
       ".text_cell_render h4, .text_cell_render h5 {\n",
       "    font-family: 'Garamond', 'Ubuntu Condensed', sans-serif;\n",
       "}\n",
       "\n",
       ".text_cell_render h1 {\n",
       "    text-align: center;\n",
       "    font-weight: 600;\n",
       "    font-size: 250%;\n",
       "    line-height: 100%;\n",
       "    color: blue;\n",
       "    margin-bottom: 0.1em;\n",
       "    margin-top: 0.1em;\n",
       "    display: block;\n",
       "\tfont-style: bold;\n",
       "}\n",
       "\n",
       ".text_cell_render h2 {\n",
       "\ttext-align: justify;\n",
       "\tline-height: 100%;\n",
       "    font-size: 180%;\n",
       "    font-weight: bold;\n",
       "    margin-bottom: 0.0em;\n",
       "    margin-top: 0.0em;\n",
       "    font-style: bold;\n",
       "    color: #477C9A;\n",
       "}\t\n",
       "\n",
       ".text_cell_render h3 {\n",
       "\ttext-align: justify;\n",
       "    font-size: 160%;\n",
       "    font-weight: bold;\n",
       "    margin-bottom: 0.1em;\n",
       "    margin-top: 0.1em;\n",
       "    font-style: italic;\n",
       "    color:  #477C9A;\n",
       "}\n",
       "\n",
       ".text_cell_render h4 {    /*Use this for captions*/\n",
       "    font-size: 140%;\n",
       "    font-weight: bold;\n",
       "    text-align: justify;\n",
       "    margin-bottom: 0.1em;\n",
       "    margin-top: 0.1em;\n",
       "    font-style: regular;\n",
       "    color:  #477C9A;\n",
       "}\n",
       "\n",
       ".text_cell_render h5 {  /*Use this for small titles*/\n",
       "\ttext-align: justify;\n",
       "    font-size: 120%;\n",
       "    font-weight: 550;\n",
       "    color: rgb(163,0,0);\n",
       "    font-style: italic;\n",
       "    margin-bottom: .1em;\n",
       "    margin-top: 0.8em;\n",
       "    display: block;\n",
       "    color:  #7E7D7D;\n",
       "}\n",
       "\n",
       ".text_cell_render h6 { /*use this for copyright note*/\n",
       "\ttext-align: justify;\n",
       "    font-family: 'Ubuntu Condensed', sans-serif;\n",
       "    font-weight: 300;\n",
       "    font-size: 12pt;\n",
       "    line-height: 100%;\n",
       "    color: #252525;\n",
       "    text-align: right;\n",
       "    margin-bottom: 1px;\n",
       "    margin-top: 1px;\n",
       "}\n",
       "\n",
       ".CodeMirror{\n",
       "        font-family: 'Consolas', 'Symbol';\n",
       "        font-size: 100%;\n",
       "}\n",
       "\n",
       "</style>\n",
       "<script>\n",
       "    MathJax.Hub.Config({\n",
       "                        TeX: {\n",
       "                           extensions: [\"AMSmath.js\"],\n",
       "                           equationNumbers: { autoNumber: \"AMS\", useLabelIds: true}\n",
       "                           },\n",
       "                tex2jax: {\n",
       "                    inlineMath: [ ['$','$'], [\"\\\\(\",\"\\\\)\"] ],\n",
       "                    displayMath: [ ['$$','$$'], [\"\\\\[\",\"\\\\]\"] ]\n",
       "                },\n",
       "                displayAlign: 'center', // Change this to 'center' to center equations.\n",
       "                \"HTML-CSS\": {\n",
       "                    styles: {'.MathJax_Display': {\"margin\": 4}}\n",
       "                }\n",
       "        });\n",
       "</script>\n"
      ],
      "text/plain": [
       "<IPython.core.display.HTML object>"
      ]
     },
     "execution_count": 1,
     "metadata": {},
     "output_type": "execute_result"
    }
   ],
   "source": [
    "# Esta celda da el estilo al notebook\n",
    "from IPython.core.display import HTML\n",
    "css_style = r'..\\style_1.css'\n",
    "css_file = css_style\n",
    "HTML(open(css_file, \"r\").read())"
   ]
  },
  {
   "cell_type": "code",
   "execution_count": 2,
   "metadata": {},
   "outputs": [],
   "source": [
    "from pyomo.environ import *"
   ]
  },
  {
   "cell_type": "markdown",
   "metadata": {},
   "source": [
    "## Declaring parameters"
   ]
  },
  {
   "cell_type": "markdown",
   "metadata": {},
   "source": [
    "In order to declare a parameter, the model must be created:"
   ]
  },
  {
   "cell_type": "code",
   "execution_count": 3,
   "metadata": {},
   "outputs": [],
   "source": [
    "model = ConcreteModel()"
   ]
  },
  {
   "cell_type": "markdown",
   "metadata": {},
   "source": [
    "The simplest way is:"
   ]
  },
  {
   "cell_type": "code",
   "execution_count": 4,
   "metadata": {},
   "outputs": [],
   "source": [
    "model.Z = Param()"
   ]
  },
  {
   "cell_type": "code",
   "execution_count": 5,
   "metadata": {
    "scrolled": true
   },
   "outputs": [
    {
     "name": "stdout",
     "output_type": "stream",
     "text": [
      "Z : Size=0, Index=None, Domain=Any, Default=None, Mutable=False\n",
      "    Key : Value\n"
     ]
    }
   ],
   "source": [
    "model.Z.pprint()"
   ]
  },
  {
   "cell_type": "markdown",
   "metadata": {},
   "source": [
    "The parameters can be indexed:"
   ]
  },
  {
   "cell_type": "code",
   "execution_count": 6,
   "metadata": {},
   "outputs": [],
   "source": [
    "model.Index = Set(initialize = ['First', 'Second', 'Third'], ordered = True)"
   ]
  },
  {
   "cell_type": "markdown",
   "metadata": {},
   "source": [
    "During declaration we write the index."
   ]
  },
  {
   "cell_type": "code",
   "execution_count": 7,
   "metadata": {},
   "outputs": [
    {
     "name": "stdout",
     "output_type": "stream",
     "text": [
      "ZIndex : Size=0, Index=Index, Domain=Any, Default=None, Mutable=False\n",
      "    Key : Value\n"
     ]
    }
   ],
   "source": [
    "model.ZIndex = Param(model.Index)\n",
    "model.ZIndex.pprint()"
   ]
  },
  {
   "cell_type": "markdown",
   "metadata": {},
   "source": [
    "In order to associate values, we can initialize using a dictionary"
   ]
  },
  {
   "cell_type": "code",
   "execution_count": 8,
   "metadata": {},
   "outputs": [
    {
     "name": "stdout",
     "output_type": "stream",
     "text": [
      "ZIni : Size=3, Index=Index, Domain=Any, Default=None, Mutable=False\n",
      "    Key    : Value\n",
      "     First :    32\n",
      "    Second :    23\n",
      "     Third :    21\n"
     ]
    }
   ],
   "source": [
    "model.ZIni = Param(model.Index, initialize = {'First':32, 'Second': 23,'Third': 21})\n",
    "model.ZIni.pprint()"
   ]
  },
  {
   "cell_type": "markdown",
   "metadata": {},
   "source": [
    "It can be done with a rule."
   ]
  },
  {
   "cell_type": "code",
   "execution_count": 9,
   "metadata": {
    "scrolled": false
   },
   "outputs": [
    {
     "name": "stdout",
     "output_type": "stream",
     "text": [
      "ZRule : Size=3, Index=Index, Domain=Any, Default=None, Mutable=False\n",
      "    Key    : Value\n",
      "     First : First Parametro\n",
      "    Second : Second Parametro\n",
      "     Third : Third Parametro\n"
     ]
    }
   ],
   "source": [
    "def Initialization(model, i):\n",
    "    return i + ' Parametro'\n",
    "model.ZRule = Param(model.Index, initialize = Initialization)\n",
    "model.ZRule.pprint()"
   ]
  },
  {
   "cell_type": "markdown",
   "metadata": {},
   "source": [
    "If the set is ordered, it can be done refering to previous parameters:"
   ]
  },
  {
   "cell_type": "code",
   "execution_count": 10,
   "metadata": {
    "scrolled": true
   },
   "outputs": [
    {
     "name": "stdout",
     "output_type": "stream",
     "text": [
      "ZPrevio : Size=3, Index=Index, Domain=Any, Default=None, Mutable=False\n",
      "    Key    : Value\n",
      "     First :       FirstFirst\n",
      "    Second : SecondFirstFirst\n",
      "     Third :  ThirdFirstFirst\n"
     ]
    }
   ],
   "source": [
    "def Previo(model, i):\n",
    "    if i == 'First':\n",
    "        return 'First' + i\n",
    "    return i + model.ZPrevio['First']\n",
    "model.ZPrevio = Param(model.Index, initialize = Previo)\n",
    "model.ZPrevio.pprint()"
   ]
  },
  {
   "cell_type": "markdown",
   "metadata": {},
   "source": [
    "Parameters can hold any type of data. The default domain is `Any`. We can establish the domain manually in order to check that we are not violating it."
   ]
  },
  {
   "cell_type": "code",
   "execution_count": 11,
   "metadata": {},
   "outputs": [],
   "source": [
    "model.ZReal = Param(within = Reals)"
   ]
  },
  {
   "cell_type": "markdown",
   "metadata": {},
   "source": [
    "## Mutability"
   ]
  },
  {
   "cell_type": "markdown",
   "metadata": {},
   "source": [
    "While normally parameters represent constant values, they can be declared as mutable. For example:\n",
    "\n",
    "$$ x_{1} + 17x_{2} - 4x_{3}$$"
   ]
  },
  {
   "cell_type": "code",
   "execution_count": 12,
   "metadata": {},
   "outputs": [],
   "source": [
    "model = ConcreteModel()\n",
    "model.A = Set(initialize = [1,2,3])\n",
    "model.P = Param(model.A, initialize = {1:1, 2:17, 3:-4})\n",
    "model.x = Var(model.A, within = NonNegativeReals)\n",
    "def Obj_Rule(model):\n",
    "    return sum(model.P[i]*model.x[i] for i in model.A)\n",
    "model.Obj = Objective(rule = Obj_Rule)"
   ]
  },
  {
   "cell_type": "code",
   "execution_count": 13,
   "metadata": {},
   "outputs": [
    {
     "name": "stdout",
     "output_type": "stream",
     "text": [
      "Obj : Size=1, Index=None, Active=True\n",
      "    Key  : Active : Sense    : Expression\n",
      "    None :   True : minimize : x[1] + 17*x[2] - 4*x[3]\n"
     ]
    }
   ],
   "source": [
    "model.Obj.pprint()"
   ]
  },
  {
   "cell_type": "markdown",
   "metadata": {},
   "source": [
    "We can see that it substitued the value of the parameters. If we now declare them as mutable."
   ]
  },
  {
   "cell_type": "code",
   "execution_count": 14,
   "metadata": {},
   "outputs": [],
   "source": [
    "model = ConcreteModel()\n",
    "model.A = Set(initialize = [1,2,3])\n",
    "model.P = Param(model.A, initialize = {1:1, 2:17, 3:-4}, mutable = True)\n",
    "model.x = Var(model.A, within = NonNegativeReals)\n",
    "def Obj_Rule(model):\n",
    "    return sum(model.P[i]*model.x[i] for i in model.A)\n",
    "model.Obj = Objective(rule = Obj_Rule)"
   ]
  },
  {
   "cell_type": "code",
   "execution_count": 15,
   "metadata": {
    "scrolled": true
   },
   "outputs": [
    {
     "name": "stdout",
     "output_type": "stream",
     "text": [
      "Obj : Size=1, Index=None, Active=True\n",
      "    Key  : Active : Sense    : Expression\n",
      "    None :   True : minimize : P[1]*x[1] + P[2]*x[2] + P[3]*x[3]\n"
     ]
    }
   ],
   "source": [
    "model.Obj.pprint()"
   ]
  },
  {
   "cell_type": "markdown",
   "metadata": {},
   "source": [
    "The value is not substitued at initialization. It can still be changed by:"
   ]
  },
  {
   "cell_type": "code",
   "execution_count": 16,
   "metadata": {},
   "outputs": [],
   "source": [
    "model.P[2] = 4.2"
   ]
  }
 ],
 "metadata": {
  "kernelspec": {
   "display_name": "Python 3",
   "language": "python",
   "name": "python3"
  },
  "language_info": {
   "codemirror_mode": {
    "name": "ipython",
    "version": 3
   },
   "file_extension": ".py",
   "mimetype": "text/x-python",
   "name": "python",
   "nbconvert_exporter": "python",
   "pygments_lexer": "ipython3",
   "version": "3.7.6"
  }
 },
 "nbformat": 4,
 "nbformat_minor": 2
}
