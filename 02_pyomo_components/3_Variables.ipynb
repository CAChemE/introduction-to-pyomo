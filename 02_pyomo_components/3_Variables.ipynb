{
 "cells": [
  {
   "cell_type": "markdown",
   "metadata": {},
   "source": [
    "# Pyomo variables"
   ]
  },
  {
   "cell_type": "code",
   "execution_count": 1,
   "metadata": {},
   "outputs": [
    {
     "data": {
      "text/html": [
       "/* This template is inspired in the one used by Lorena Barba\n",
       "in the numerical-mooc repository: https://github.com/numerical-mooc/numerical-mooc\n",
       "We thank her work and hope you also enjoy the look of the notobooks with this style */\n",
       "\n",
       "<link href='https://fonts.googleapis.com/css?family=Sofia' rel='stylesheet'>\n",
       "<style>\n",
       "\n",
       "\n",
       "\n",
       "#notebook_panel { /* main background */\n",
       "    background: None;\n",
       "}\n",
       "\n",
       "div #notebook { /* centre the content */\n",
       "    background: #fff; /* white background for content */\n",
       "\tfont-size: 12pt;\n",
       "    width: 100%;\n",
       "    margin: auto;\n",
       "    padding-left: 0pt;\n",
       "\tcolor: red;\n",
       "}\n",
       "\n",
       "div.input_area{\n",
       "\tborder: 2pt solid #CACD8B\n",
       ";\n",
       "}\n",
       "div.cell { /* set cell width */\n",
       "\n",
       "\tmargin-bottom: 5pt;\n",
       "}\n",
       "\n",
       ".container {\n",
       "\twidth: 85%;\n",
       "}\n",
       "#notebook li { /* More space between bullet points */\n",
       "    margin-top:0.7em;\n",
       "}\n",
       "\n",
       "/* draw border around running cells */\n",
       "div.cell.border-box-sizing.code_cell.running { \n",
       "    border: 1px solid black;\n",
       "}\n",
       "/* THIS IS FOR JUSTIFYING */\n",
       ".text_cell_render p{\n",
       "\ttext-align: justify;\n",
       "}\n",
       "/* Put a solid color box around each cell and its output, visually linking them*/\n",
       "div.cell.code_cell {\n",
       "    font-family: 'Consolas';\n",
       "    background-color: rgb(256,256,256);\n",
       "    font-size: 100%;\n",
       "    border-radius: 0pt; \n",
       "    padding: 0.1em;\n",
       "\twidth: 95%;\n",
       "    margin-left:1em;\n",
       "    margin-top: 1em;\n",
       "}\n",
       "\n",
       "div.text_cell_render{\n",
       "    font-family: 'Times New Roman';\n",
       "    line-height: 145%;\n",
       "    font-size: 110%;\n",
       "    text-align: justify;\n",
       "    font-weight: 500;\n",
       "    width:95%;\n",
       "    margin-left:0em;\n",
       "    margin-top:0em;\n",
       "\tmargin-bottom: 0em;\n",
       "}\n",
       "\n",
       "/* Formatting for header cells */\n",
       ".text_cell_render h1, .text_cell_render h2, .text_cell_render h3,\n",
       ".text_cell_render h4, .text_cell_render h5 {\n",
       "    font-family: 'Garamond', 'Ubuntu Condensed', sans-serif;\n",
       "}\n",
       "\n",
       ".text_cell_render h1 {\n",
       "    text-align: center;\n",
       "    font-weight: 600;\n",
       "    font-size: 250%;\n",
       "    line-height: 100%;\n",
       "    color: blue;\n",
       "    margin-bottom: 0.1em;\n",
       "    margin-top: 0.1em;\n",
       "    display: block;\n",
       "\tfont-style: bold;\n",
       "}\n",
       "\n",
       ".text_cell_render h2 {\n",
       "\ttext-align: justify;\n",
       "\tline-height: 100%;\n",
       "    font-size: 180%;\n",
       "    font-weight: bold;\n",
       "    margin-bottom: 0.0em;\n",
       "    margin-top: 0.0em;\n",
       "    font-style: bold;\n",
       "    color: #477C9A;\n",
       "}\t\n",
       "\n",
       ".text_cell_render h3 {\n",
       "\ttext-align: justify;\n",
       "    font-size: 160%;\n",
       "    font-weight: bold;\n",
       "    margin-bottom: 0.1em;\n",
       "    margin-top: 0.1em;\n",
       "    font-style: italic;\n",
       "    color:  #477C9A;\n",
       "}\n",
       "\n",
       ".text_cell_render h4 {    /*Use this for captions*/\n",
       "    font-size: 140%;\n",
       "    font-weight: bold;\n",
       "    text-align: justify;\n",
       "    margin-bottom: 0.1em;\n",
       "    margin-top: 0.1em;\n",
       "    font-style: regular;\n",
       "    color:  #477C9A;\n",
       "}\n",
       "\n",
       ".text_cell_render h5 {  /*Use this for small titles*/\n",
       "\ttext-align: justify;\n",
       "    font-size: 120%;\n",
       "    font-weight: 550;\n",
       "    color: rgb(163,0,0);\n",
       "    font-style: italic;\n",
       "    margin-bottom: .1em;\n",
       "    margin-top: 0.8em;\n",
       "    display: block;\n",
       "    color:  #7E7D7D;\n",
       "}\n",
       "\n",
       ".text_cell_render h6 { /*use this for copyright note*/\n",
       "\ttext-align: justify;\n",
       "    font-family: 'Ubuntu Condensed', sans-serif;\n",
       "    font-weight: 300;\n",
       "    font-size: 12pt;\n",
       "    line-height: 100%;\n",
       "    color: #252525;\n",
       "    text-align: right;\n",
       "    margin-bottom: 1px;\n",
       "    margin-top: 1px;\n",
       "}\n",
       "\n",
       ".CodeMirror{\n",
       "        font-family: 'Consolas', 'Symbol';\n",
       "        font-size: 100%;\n",
       "}\n",
       "\n",
       "</style>\n",
       "<script>\n",
       "    MathJax.Hub.Config({\n",
       "                        TeX: {\n",
       "                           extensions: [\"AMSmath.js\"],\n",
       "                           equationNumbers: { autoNumber: \"AMS\", useLabelIds: true}\n",
       "                           },\n",
       "                tex2jax: {\n",
       "                    inlineMath: [ ['$','$'], [\"\\\\(\",\"\\\\)\"] ],\n",
       "                    displayMath: [ ['$$','$$'], [\"\\\\[\",\"\\\\]\"] ]\n",
       "                },\n",
       "                displayAlign: 'center', // Change this to 'center' to center equations.\n",
       "                \"HTML-CSS\": {\n",
       "                    styles: {'.MathJax_Display': {\"margin\": 4}}\n",
       "                }\n",
       "        });\n",
       "</script>\n"
      ],
      "text/plain": [
       "<IPython.core.display.HTML object>"
      ]
     },
     "execution_count": 1,
     "metadata": {},
     "output_type": "execute_result"
    }
   ],
   "source": [
    "# Esta celda da el estilo al notebook\n",
    "from IPython.core.display import HTML\n",
    "css_style = r'..\\style_1.css'\n",
    "css_file = css_style\n",
    "HTML(open(css_file, \"r\").read())"
   ]
  },
  {
   "cell_type": "code",
   "execution_count": 2,
   "metadata": {},
   "outputs": [],
   "source": [
    "from pyomo.environ import *"
   ]
  },
  {
   "cell_type": "markdown",
   "metadata": {},
   "source": [
    "## Declaring variables"
   ]
  },
  {
   "cell_type": "code",
   "execution_count": 3,
   "metadata": {},
   "outputs": [],
   "source": [
    "model = ConcreteModel()\n",
    "model.x = Var()"
   ]
  },
  {
   "cell_type": "markdown",
   "metadata": {},
   "source": [
    "With variables, the domain is really important."
   ]
  },
  {
   "cell_type": "code",
   "execution_count": 4,
   "metadata": {},
   "outputs": [],
   "source": [
    "model.xReal = Var(domain = Reals)\n",
    "model.xBinary = Var(domain = Binary)\n",
    "model.xPositive = Var(domain = PositiveReals)\n",
    "model.xNegative = Var(domain = NegativeReals)"
   ]
  },
  {
   "cell_type": "code",
   "execution_count": 5,
   "metadata": {},
   "outputs": [
    {
     "name": "stdout",
     "output_type": "stream",
     "text": [
      "xReal : Size=1, Index=None\n",
      "    Key  : Lower : Value : Upper : Fixed : Stale : Domain\n",
      "    None :  None :  None :  None : False :  True :  Reals\n",
      "xBinary : Size=1, Index=None\n",
      "    Key  : Lower : Value : Upper : Fixed : Stale : Domain\n",
      "    None :     0 :  None :     1 : False :  True : Binary\n",
      "xPositive : Size=1, Index=None\n",
      "    Key  : Lower : Value : Upper : Fixed : Stale : Domain\n",
      "    None :     0 :  None :  None : False :  True : PositiveReals\n",
      "xNegative : Size=1, Index=None\n",
      "    Key  : Lower : Value : Upper : Fixed : Stale : Domain\n",
      "    None :  None :  None :     0 : False :  True : NegativeReals\n"
     ]
    }
   ],
   "source": [
    "model.xReal.pprint()\n",
    "model.xBinary.pprint()\n",
    "model.xPositive.pprint()\n",
    "model.xNegative.pprint()"
   ]
  },
  {
   "cell_type": "markdown",
   "metadata": {},
   "source": [
    "In order to declare the initial values of the variables, we can use `initialize` y `bounds`."
   ]
  },
  {
   "cell_type": "code",
   "execution_count": 6,
   "metadata": {},
   "outputs": [],
   "source": [
    "model.SietePositivo = Var(initialize = 7.0, bounds = (0, None))"
   ]
  },
  {
   "cell_type": "code",
   "execution_count": 7,
   "metadata": {},
   "outputs": [
    {
     "name": "stdout",
     "output_type": "stream",
     "text": [
      "SietePositivo : Size=1, Index=None\n",
      "    Key  : Lower : Value : Upper : Fixed : Stale : Domain\n",
      "    None :     0 :   7.0 :  None : False : False :  Reals\n"
     ]
    }
   ],
   "source": [
    "model.SietePositivo.pprint()"
   ]
  },
  {
   "cell_type": "markdown",
   "metadata": {},
   "source": [
    "Variables can be fixed as well, as in GAMS."
   ]
  },
  {
   "cell_type": "code",
   "execution_count": 8,
   "metadata": {},
   "outputs": [],
   "source": [
    "model.binaria = Var(domain = Binary)"
   ]
  },
  {
   "cell_type": "code",
   "execution_count": 9,
   "metadata": {},
   "outputs": [
    {
     "name": "stdout",
     "output_type": "stream",
     "text": [
      "binaria : Size=1, Index=None\n",
      "    Key  : Lower : Value : Upper : Fixed : Stale : Domain\n",
      "    None :     0 :     1 :     1 :  True :  True : Binary\n"
     ]
    }
   ],
   "source": [
    "model.binaria.fix(1)\n",
    "model.binaria.pprint()"
   ]
  },
  {
   "cell_type": "markdown",
   "metadata": {},
   "source": [
    "The limits can be established in the initialization or afterwards, like in GAMS."
   ]
  },
  {
   "cell_type": "code",
   "execution_count": 10,
   "metadata": {},
   "outputs": [
    {
     "name": "stdout",
     "output_type": "stream",
     "text": [
      "Capacidad : Size=1, Index=None\n",
      "    Key  : Lower : Value : Upper : Fixed : Stale : Domain\n",
      "    None :  None :  None :  None : False :  True :  Reals\n"
     ]
    }
   ],
   "source": [
    "model.Capacidad = Var(domain = Reals)\n",
    "model.Capacidad.pprint()"
   ]
  },
  {
   "cell_type": "code",
   "execution_count": 11,
   "metadata": {},
   "outputs": [
    {
     "name": "stdout",
     "output_type": "stream",
     "text": [
      "Capacidad : Size=1, Index=None\n",
      "    Key  : Lower : Value : Upper : Fixed : Stale : Domain\n",
      "    None :     0 :  None :    39 : False :  True :  Reals\n"
     ]
    }
   ],
   "source": [
    "model.Capacidad.setlb(0)\n",
    "model.Capacidad.setub(39)\n",
    "model.Capacidad.pprint()"
   ]
  }
 ],
 "metadata": {
  "kernelspec": {
   "display_name": "Python 3",
   "language": "python",
   "name": "python3"
  },
  "language_info": {
   "codemirror_mode": {
    "name": "ipython",
    "version": 3
   },
   "file_extension": ".py",
   "mimetype": "text/x-python",
   "name": "python",
   "nbconvert_exporter": "python",
   "pygments_lexer": "ipython3",
   "version": "3.7.6"
  }
 },
 "nbformat": 4,
 "nbformat_minor": 2
}
